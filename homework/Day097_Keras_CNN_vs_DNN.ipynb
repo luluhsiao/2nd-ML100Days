{
 "cells": [
  {
   "cell_type": "code",
   "execution_count": 1,
   "metadata": {},
   "outputs": [
    {
     "name": "stderr",
     "output_type": "stream",
     "text": [
      "D:\\Program Files\\Anaconda3\\lib\\site-packages\\ipykernel\\parentpoller.py:116: UserWarning: Parent poll failed.  If the frontend dies,\n",
      "                the kernel may be left running.  Please let us know\n",
      "                about your system (bitness, Python, etc.) at\n",
      "                ipython-dev@scipy.org\n",
      "  ipython-dev@scipy.org\"\"\")\n",
      "Using TensorFlow backend.\n"
     ]
    }
   ],
   "source": [
    "import keras\n",
    "from keras.datasets import cifar10\n",
    "from keras.preprocessing.image import ImageDataGenerator\n",
    "from keras.models import Sequential\n",
    "from keras.layers import Dense, Dropout, Activation, Flatten\n",
    "from keras.layers import Conv2D, MaxPooling2D\n",
    "from keras.optimizers import RMSprop, Adam\n",
    "import os"
   ]
  },
  {
   "cell_type": "code",
   "execution_count": 2,
   "metadata": {},
   "outputs": [
    {
     "name": "stdout",
     "output_type": "stream",
     "text": [
      "x_train shape: (50000, 32, 32, 3)\n",
      "50000 train samples\n",
      "10000 test samples\n"
     ]
    }
   ],
   "source": [
    "batch_size = 128 # batch 的大小，如果出現 OOM error，請降低這個值\n",
    "num_classes = 10 # 類別的數量，Cifar 10 共有 10 個類別\n",
    "epochs = 10 # 訓練的 epochs 數量\n",
    "\n",
    "# 讀取資料並檢視\n",
    "(x_train, y_train), (x_test, y_test) = cifar10.load_data()\n",
    "print('x_train shape:', x_train.shape)\n",
    "print(x_train.shape[0], 'train samples')\n",
    "print(x_test.shape[0], 'test samples')\n",
    "\n",
    "# 對 label 進行 one-hot encoding (y_trian 原本是純數字)\n",
    "y_train = keras.utils.to_categorical(y_train, num_classes)\n",
    "y_test = keras.utils.to_categorical(y_test, num_classes)"
   ]
  },
  {
   "cell_type": "markdown",
   "metadata": {},
   "source": [
    "## 首先我們使用一般的 DNN (MLP) 來訓練\n",
    "由於 DNN 只能輸入一維的資料，我們要先將影像進行攤平，若 (50000, 32, 32, 3) 的影像，攤平後會變成 (50000, 32*32*3) = (50000, 3072)"
   ]
  },
  {
   "cell_type": "code",
   "execution_count": 3,
   "metadata": {},
   "outputs": [
    {
     "name": "stdout",
     "output_type": "stream",
     "text": [
      "50000 train samples\n",
      "10000 test samples\n"
     ]
    }
   ],
   "source": [
    "# 將資料攤平成一維資料\n",
    "x_train = x_train.reshape(50000, 3072) \n",
    "x_test = x_test.reshape(10000, 3072)\n",
    "\n",
    "# 將資料變為 float32 並標準化\n",
    "x_train = x_train.astype('float32')\n",
    "x_test = x_test.astype('float32')\n",
    "x_train /= 255\n",
    "x_test /= 255\n",
    "print(x_train.shape[0], 'train samples')\n",
    "print(x_test.shape[0], 'test samples')"
   ]
  },
  {
   "cell_type": "code",
   "execution_count": 4,
   "metadata": {},
   "outputs": [
    {
     "name": "stdout",
     "output_type": "stream",
     "text": [
      "WARNING:tensorflow:From D:\\Program Files\\Anaconda3\\lib\\site-packages\\tensorflow\\python\\framework\\op_def_library.py:263: colocate_with (from tensorflow.python.framework.ops) is deprecated and will be removed in a future version.\n",
      "Instructions for updating:\n",
      "Colocations handled automatically by placer.\n",
      "WARNING:tensorflow:From D:\\Program Files\\Anaconda3\\lib\\site-packages\\keras\\backend\\tensorflow_backend.py:3445: calling dropout (from tensorflow.python.ops.nn_ops) with keep_prob is deprecated and will be removed in a future version.\n",
      "Instructions for updating:\n",
      "Please use `rate` instead of `keep_prob`. Rate should be set to `rate = 1 - keep_prob`.\n",
      "_________________________________________________________________\n",
      "Layer (type)                 Output Shape              Param #   \n",
      "=================================================================\n",
      "dense_1 (Dense)              (None, 512)               1573376   \n",
      "_________________________________________________________________\n",
      "dropout_1 (Dropout)          (None, 512)               0         \n",
      "_________________________________________________________________\n",
      "dense_2 (Dense)              (None, 512)               262656    \n",
      "_________________________________________________________________\n",
      "dropout_2 (Dropout)          (None, 512)               0         \n",
      "_________________________________________________________________\n",
      "dense_3 (Dense)              (None, 10)                5130      \n",
      "=================================================================\n",
      "Total params: 1,841,162\n",
      "Trainable params: 1,841,162\n",
      "Non-trainable params: 0\n",
      "_________________________________________________________________\n",
      "WARNING:tensorflow:From D:\\Program Files\\Anaconda3\\lib\\site-packages\\tensorflow\\python\\ops\\math_ops.py:3066: to_int32 (from tensorflow.python.ops.math_ops) is deprecated and will be removed in a future version.\n",
      "Instructions for updating:\n",
      "Use tf.cast instead.\n",
      "Train on 50000 samples, validate on 10000 samples\n",
      "Epoch 1/10\n",
      "50000/50000 [==============================] - 29s 585us/step - loss: 2.2036 - acc: 0.2506 - val_loss: 1.8129 - val_acc: 0.3439\n",
      "Epoch 2/10\n",
      "50000/50000 [==============================] - 27s 543us/step - loss: 1.8528 - acc: 0.3307 - val_loss: 1.9545 - val_acc: 0.2954\n",
      "Epoch 3/10\n",
      "50000/50000 [==============================] - 27s 538us/step - loss: 1.7750 - acc: 0.3637 - val_loss: 1.6770 - val_acc: 0.4053\n",
      "Epoch 4/10\n",
      "50000/50000 [==============================] - 27s 536us/step - loss: 1.7171 - acc: 0.3838 - val_loss: 1.6508 - val_acc: 0.4156\n",
      "Epoch 5/10\n",
      "50000/50000 [==============================] - 27s 545us/step - loss: 1.6820 - acc: 0.3998 - val_loss: 1.6493 - val_acc: 0.4130\n",
      "Epoch 6/10\n",
      "50000/50000 [==============================] - 27s 539us/step - loss: 1.6561 - acc: 0.4043 - val_loss: 1.6191 - val_acc: 0.4094\n",
      "Epoch 7/10\n",
      "50000/50000 [==============================] - 27s 545us/step - loss: 1.6311 - acc: 0.4171 - val_loss: 1.5853 - val_acc: 0.4394\n",
      "Epoch 8/10\n",
      "50000/50000 [==============================] - 28s 553us/step - loss: 1.6149 - acc: 0.4233 - val_loss: 1.5394 - val_acc: 0.4629\n",
      "Epoch 9/10\n",
      "50000/50000 [==============================] - 27s 549us/step - loss: 1.5978 - acc: 0.4303 - val_loss: 1.5672 - val_acc: 0.4430\n",
      "Epoch 10/10\n",
      "50000/50000 [==============================] - 29s 570us/step - loss: 1.5848 - acc: 0.4353 - val_loss: 1.5605 - val_acc: 0.4507\n",
      "Test loss: 1.5605028371810914\n",
      "Test accuracy: 0.4507\n"
     ]
    }
   ],
   "source": [
    "model = Sequential()\n",
    "model.add(Dense(512, activation='relu', input_shape=(3072,)))\n",
    "model.add(Dropout(0.2))\n",
    "model.add(Dense(512, activation='relu'))\n",
    "model.add(Dropout(0.2))\n",
    "model.add(Dense(num_classes, activation='softmax'))\n",
    "\n",
    "model.summary()\n",
    "\n",
    "model.compile(loss='categorical_crossentropy',\n",
    "              optimizer=RMSprop(),\n",
    "              metrics=['accuracy'])\n",
    "\n",
    "history = model.fit(x_train, y_train,\n",
    "                    batch_size=batch_size,\n",
    "                    epochs=epochs,\n",
    "                    verbose=1,\n",
    "                    validation_data=(x_test, y_test))\n",
    "score = model.evaluate(x_test, y_test, verbose=0)\n",
    "print('Test loss:', score[0])\n",
    "print('Test accuracy:', score[1])"
   ]
  },
  {
   "cell_type": "markdown",
   "metadata": {},
   "source": [
    "## 接下來我們使用 CNN 來訓練神經網路\n",
    "CNN 的原理非常適合處理影像類的資料，就讓我們來看看，同樣的訓練條件，CNN 是否顯著優於 DNN 呢?"
   ]
  },
  {
   "cell_type": "code",
   "execution_count": 5,
   "metadata": {},
   "outputs": [
    {
     "name": "stdout",
     "output_type": "stream",
     "text": [
      "x_train shape: (50000, 32, 32, 3)\n",
      "50000 train samples\n",
      "10000 test samples\n"
     ]
    }
   ],
   "source": [
    "(x_train, y_train), (x_test, y_test) = cifar10.load_data()\n",
    "print('x_train shape:', x_train.shape)\n",
    "print(x_train.shape[0], 'train samples')\n",
    "print(x_test.shape[0], 'test samples')\n",
    "x_train = x_train.astype('float32')\n",
    "x_test = x_test.astype('float32')\n",
    "x_train /= 255\n",
    "x_test /= 255\n",
    "\n",
    "# Convert class vectors to binary class matrices.\n",
    "y_train = keras.utils.to_categorical(y_train, num_classes)\n",
    "y_test = keras.utils.to_categorical(y_test, num_classes)"
   ]
  },
  {
   "cell_type": "code",
   "execution_count": 6,
   "metadata": {},
   "outputs": [
    {
     "name": "stdout",
     "output_type": "stream",
     "text": [
      "_________________________________________________________________\n",
      "Layer (type)                 Output Shape              Param #   \n",
      "=================================================================\n",
      "conv2d_1 (Conv2D)            (None, 32, 32, 32)        896       \n",
      "_________________________________________________________________\n",
      "activation_1 (Activation)    (None, 32, 32, 32)        0         \n",
      "_________________________________________________________________\n",
      "conv2d_2 (Conv2D)            (None, 30, 30, 32)        9248      \n",
      "_________________________________________________________________\n",
      "activation_2 (Activation)    (None, 30, 30, 32)        0         \n",
      "_________________________________________________________________\n",
      "max_pooling2d_1 (MaxPooling2 (None, 15, 15, 32)        0         \n",
      "_________________________________________________________________\n",
      "dropout_3 (Dropout)          (None, 15, 15, 32)        0         \n",
      "_________________________________________________________________\n",
      "conv2d_3 (Conv2D)            (None, 15, 15, 64)        18496     \n",
      "_________________________________________________________________\n",
      "activation_3 (Activation)    (None, 15, 15, 64)        0         \n",
      "_________________________________________________________________\n",
      "conv2d_4 (Conv2D)            (None, 13, 13, 64)        36928     \n",
      "_________________________________________________________________\n",
      "activation_4 (Activation)    (None, 13, 13, 64)        0         \n",
      "_________________________________________________________________\n",
      "max_pooling2d_2 (MaxPooling2 (None, 6, 6, 64)          0         \n",
      "_________________________________________________________________\n",
      "dropout_4 (Dropout)          (None, 6, 6, 64)          0         \n",
      "_________________________________________________________________\n",
      "flatten_1 (Flatten)          (None, 2304)              0         \n",
      "_________________________________________________________________\n",
      "dense_4 (Dense)              (None, 512)               1180160   \n",
      "_________________________________________________________________\n",
      "activation_5 (Activation)    (None, 512)               0         \n",
      "_________________________________________________________________\n",
      "dropout_5 (Dropout)          (None, 512)               0         \n",
      "_________________________________________________________________\n",
      "dense_5 (Dense)              (None, 10)                5130      \n",
      "_________________________________________________________________\n",
      "activation_6 (Activation)    (None, 10)                0         \n",
      "=================================================================\n",
      "Total params: 1,250,858\n",
      "Trainable params: 1,250,858\n",
      "Non-trainable params: 0\n",
      "_________________________________________________________________\n",
      "Train on 50000 samples, validate on 10000 samples\n",
      "Epoch 1/10\n",
      "50000/50000 [==============================] - 351s 7ms/step - loss: 1.7573 - acc: 0.3669 - val_loss: 1.4781 - val_acc: 0.4572\n",
      "Epoch 2/10\n",
      "50000/50000 [==============================] - 345s 7ms/step - loss: 1.3288 - acc: 0.5262 - val_loss: 1.1020 - val_acc: 0.6163\n",
      "Epoch 3/10\n",
      "50000/50000 [==============================] - 343s 7ms/step - loss: 1.1231 - acc: 0.6074 - val_loss: 1.1753 - val_acc: 0.5818\n",
      "Epoch 4/10\n",
      "50000/50000 [==============================] - 352s 7ms/step - loss: 0.9819 - acc: 0.6566 - val_loss: 0.9189 - val_acc: 0.6871\n",
      "Epoch 5/10\n",
      "50000/50000 [==============================] - 356s 7ms/step - loss: 0.8937 - acc: 0.6892 - val_loss: 0.9329 - val_acc: 0.6837\n",
      "Epoch 6/10\n",
      "50000/50000 [==============================] - 353s 7ms/step - loss: 0.8247 - acc: 0.7124 - val_loss: 0.8033 - val_acc: 0.7279\n",
      "Epoch 7/10\n",
      "50000/50000 [==============================] - 349s 7ms/step - loss: 0.7701 - acc: 0.7333 - val_loss: 0.7272 - val_acc: 0.7464\n",
      "Epoch 8/10\n",
      "50000/50000 [==============================] - 353s 7ms/step - loss: 0.7275 - acc: 0.7478 - val_loss: 0.7082 - val_acc: 0.7569\n",
      "Epoch 9/10\n",
      "50000/50000 [==============================] - 350s 7ms/step - loss: 0.7021 - acc: 0.7582 - val_loss: 0.6809 - val_acc: 0.7646\n",
      "Epoch 10/10\n",
      "50000/50000 [==============================] - 351s 7ms/step - loss: 0.6670 - acc: 0.7709 - val_loss: 0.7195 - val_acc: 0.7542\n",
      "Test loss: 0.7194862006664277\n",
      "Test accuracy: 0.7542\n"
     ]
    }
   ],
   "source": [
    "model = Sequential()\n",
    "model.add(Conv2D(32, (3, 3), padding='same',\n",
    "                 input_shape=x_train.shape[1:]))\n",
    "model.add(Activation('relu'))\n",
    "model.add(Conv2D(32, (3, 3)))\n",
    "model.add(Activation('relu'))\n",
    "model.add(MaxPooling2D(pool_size=(2, 2)))\n",
    "model.add(Dropout(0.25))\n",
    "\n",
    "model.add(Conv2D(64, (3, 3), padding='same'))\n",
    "model.add(Activation('relu'))\n",
    "model.add(Conv2D(64, (3, 3)))\n",
    "model.add(Activation('relu'))\n",
    "model.add(MaxPooling2D(pool_size=(2, 2)))\n",
    "model.add(Dropout(0.25))\n",
    "\n",
    "model.add(Flatten())\n",
    "model.add(Dense(512))\n",
    "model.add(Activation('relu'))\n",
    "model.add(Dropout(0.5))\n",
    "model.add(Dense(num_classes))\n",
    "model.add(Activation('softmax'))\n",
    "model.summary()\n",
    "\n",
    "model.compile(loss='categorical_crossentropy',\n",
    "              optimizer=RMSprop(),\n",
    "              metrics=['accuracy'])\n",
    "\n",
    "history = model.fit(x_train, y_train,\n",
    "                    batch_size=batch_size,\n",
    "                    epochs=epochs,\n",
    "                    verbose=1,\n",
    "                    validation_data=(x_test, y_test))\n",
    "score = model.evaluate(x_test, y_test, verbose=0)\n",
    "print('Test loss:', score[0])\n",
    "print('Test accuracy:', score[1])"
   ]
  },
  {
   "cell_type": "markdown",
   "metadata": {},
   "source": [
    "## 同樣運算 10 個 epochs，但 CNN 在 test data 的準確率顯著優於 DNN!"
   ]
  },
  {
   "cell_type": "markdown",
   "metadata": {},
   "source": [
    "## 作業\n",
    "1. 請試著調整各個超參數，並說明那些超參數對於結果有明顯的影響?\n",
    "2. CNN 與 DNN 哪個模型的參數數量比較多? 造成參數的數量不同的原因在哪?"
   ]
  },
  {
   "cell_type": "markdown",
   "metadata": {},
   "source": [
    "* Ans1: 訓練的epochs數量對於結果有明顯的影響，在還未收斂前，epochs數量越大，正確率越高。\n",
    "* Ans2: DNN模型的參數數量比較多，因為DNN是利用整張圖下去做運算，CNN則是利用feature map來保留重要特徵，也會減少一些不必要的資訊，。"
   ]
  },
  {
   "cell_type": "code",
   "execution_count": 7,
   "metadata": {},
   "outputs": [
    {
     "name": "stdout",
     "output_type": "stream",
     "text": [
      "x_train shape: (50000, 32, 32, 3)\n",
      "50000 train samples\n",
      "10000 test samples\n"
     ]
    }
   ],
   "source": [
    "batch_size = 128 # batch 的大小，如果出現 OOM error，請降低這個值\n",
    "num_classes = 10 # 類別的數量，Cifar 10 共有 10 個類別\n",
    "epochs = 25 # 訓練的 epochs 數量\n",
    "\n",
    "# 讀取資料並檢視\n",
    "(x_train, y_train), (x_test, y_test) = cifar10.load_data()\n",
    "print('x_train shape:', x_train.shape)\n",
    "print(x_train.shape[0], 'train samples')\n",
    "print(x_test.shape[0], 'test samples')\n",
    "\n",
    "# 對 label 進行 one-hot encoding (y_trian 原本是純數字)\n",
    "y_train = keras.utils.to_categorical(y_train, num_classes)\n",
    "y_test = keras.utils.to_categorical(y_test, num_classes)"
   ]
  },
  {
   "cell_type": "code",
   "execution_count": 8,
   "metadata": {},
   "outputs": [
    {
     "name": "stdout",
     "output_type": "stream",
     "text": [
      "50000 train samples\n",
      "10000 test samples\n"
     ]
    }
   ],
   "source": [
    "# 將資料攤平成一維資料\n",
    "x_train = x_train.reshape(50000, 3072) \n",
    "x_test = x_test.reshape(10000, 3072)\n",
    "\n",
    "# 將資料變為 float32 並標準化\n",
    "x_train = x_train.astype('float32')\n",
    "x_test = x_test.astype('float32')\n",
    "x_train /= 255\n",
    "x_test /= 255\n",
    "print(x_train.shape[0], 'train samples')\n",
    "print(x_test.shape[0], 'test samples')"
   ]
  },
  {
   "cell_type": "markdown",
   "metadata": {},
   "source": [
    "### DNN"
   ]
  },
  {
   "cell_type": "code",
   "execution_count": 9,
   "metadata": {},
   "outputs": [
    {
     "name": "stdout",
     "output_type": "stream",
     "text": [
      "_________________________________________________________________\n",
      "Layer (type)                 Output Shape              Param #   \n",
      "=================================================================\n",
      "dense_6 (Dense)              (None, 512)               1573376   \n",
      "_________________________________________________________________\n",
      "dropout_6 (Dropout)          (None, 512)               0         \n",
      "_________________________________________________________________\n",
      "dense_7 (Dense)              (None, 512)               262656    \n",
      "_________________________________________________________________\n",
      "dropout_7 (Dropout)          (None, 512)               0         \n",
      "_________________________________________________________________\n",
      "dense_8 (Dense)              (None, 10)                5130      \n",
      "=================================================================\n",
      "Total params: 1,841,162\n",
      "Trainable params: 1,841,162\n",
      "Non-trainable params: 0\n",
      "_________________________________________________________________\n",
      "Train on 50000 samples, validate on 10000 samples\n",
      "Epoch 1/25\n",
      "50000/50000 [==============================] - 28s 567us/step - loss: 2.1861 - acc: 0.2489 - val_loss: 1.9032 - val_acc: 0.2865\n",
      "Epoch 2/25\n",
      "50000/50000 [==============================] - 27s 541us/step - loss: 1.8534 - acc: 0.3279 - val_loss: 1.7240 - val_acc: 0.3903\n",
      "Epoch 3/25\n",
      "50000/50000 [==============================] - 29s 584us/step - loss: 1.7779 - acc: 0.3617 - val_loss: 1.7301 - val_acc: 0.3938\n",
      "Epoch 4/25\n",
      "50000/50000 [==============================] - 27s 548us/step - loss: 1.7292 - acc: 0.3788 - val_loss: 1.6867 - val_acc: 0.3933\n",
      "Epoch 5/25\n",
      "50000/50000 [==============================] - 27s 548us/step - loss: 1.6937 - acc: 0.3925 - val_loss: 1.5908 - val_acc: 0.4407\n",
      "Epoch 6/25\n",
      "50000/50000 [==============================] - 27s 541us/step - loss: 1.6691 - acc: 0.4047 - val_loss: 1.5824 - val_acc: 0.4401\n",
      "Epoch 7/25\n",
      "50000/50000 [==============================] - 27s 548us/step - loss: 1.6407 - acc: 0.4114 - val_loss: 1.6140 - val_acc: 0.4184\n",
      "Epoch 8/25\n",
      "50000/50000 [==============================] - 28s 551us/step - loss: 1.6270 - acc: 0.4167 - val_loss: 1.6396 - val_acc: 0.4045\n",
      "Epoch 9/25\n",
      "50000/50000 [==============================] - 27s 545us/step - loss: 1.6112 - acc: 0.4228 - val_loss: 1.5388 - val_acc: 0.4527\n",
      "Epoch 10/25\n",
      "50000/50000 [==============================] - 30s 591us/step - loss: 1.5919 - acc: 0.4301 - val_loss: 1.5552 - val_acc: 0.4414\n",
      "Epoch 11/25\n",
      "50000/50000 [==============================] - 29s 575us/step - loss: 1.5869 - acc: 0.4354 - val_loss: 1.5323 - val_acc: 0.4657\n",
      "Epoch 12/25\n",
      "50000/50000 [==============================] - 28s 564us/step - loss: 1.5705 - acc: 0.4373 - val_loss: 1.5580 - val_acc: 0.4357\n",
      "Epoch 13/25\n",
      "50000/50000 [==============================] - 27s 547us/step - loss: 1.5623 - acc: 0.4417 - val_loss: 1.5281 - val_acc: 0.4597\n",
      "Epoch 14/25\n",
      "50000/50000 [==============================] - 27s 548us/step - loss: 1.5504 - acc: 0.4453 - val_loss: 1.4976 - val_acc: 0.4682\n",
      "Epoch 15/25\n",
      "50000/50000 [==============================] - 28s 551us/step - loss: 1.5484 - acc: 0.4500 - val_loss: 1.5911 - val_acc: 0.4158\n",
      "Epoch 16/25\n",
      "50000/50000 [==============================] - 27s 548us/step - loss: 1.5347 - acc: 0.4529 - val_loss: 1.4601 - val_acc: 0.4809\n",
      "Epoch 17/25\n",
      "50000/50000 [==============================] - 28s 559us/step - loss: 1.5310 - acc: 0.4556 - val_loss: 1.5417 - val_acc: 0.4598\n",
      "Epoch 18/25\n",
      "50000/50000 [==============================] - 29s 572us/step - loss: 1.5243 - acc: 0.4582 - val_loss: 1.4870 - val_acc: 0.4794\n",
      "Epoch 19/25\n",
      "50000/50000 [==============================] - 29s 571us/step - loss: 1.5128 - acc: 0.4612 - val_loss: 1.5360 - val_acc: 0.4596\n",
      "Epoch 20/25\n",
      "50000/50000 [==============================] - 29s 572us/step - loss: 1.5146 - acc: 0.4600 - val_loss: 1.5117 - val_acc: 0.4583\n",
      "Epoch 21/25\n",
      "50000/50000 [==============================] - 28s 561us/step - loss: 1.5090 - acc: 0.4645 - val_loss: 1.5140 - val_acc: 0.4742\n",
      "Epoch 22/25\n",
      "50000/50000 [==============================] - 28s 556us/step - loss: 1.4991 - acc: 0.4662 - val_loss: 1.5072 - val_acc: 0.4792\n",
      "Epoch 23/25\n",
      "50000/50000 [==============================] - 28s 552us/step - loss: 1.5009 - acc: 0.4640 - val_loss: 1.4894 - val_acc: 0.4735\n",
      "Epoch 24/25\n",
      "50000/50000 [==============================] - 28s 553us/step - loss: 1.4950 - acc: 0.4694 - val_loss: 1.4922 - val_acc: 0.4784\n",
      "Epoch 25/25\n",
      "50000/50000 [==============================] - 27s 548us/step - loss: 1.4915 - acc: 0.4682 - val_loss: 1.4721 - val_acc: 0.4888\n",
      "Test loss: 1.4721487380981446\n",
      "Test accuracy: 0.4888\n"
     ]
    }
   ],
   "source": [
    "model = Sequential()\n",
    "model.add(Dense(512, activation='relu', input_shape=(3072,)))\n",
    "model.add(Dropout(0.2))\n",
    "model.add(Dense(512, activation='relu'))\n",
    "model.add(Dropout(0.2))\n",
    "model.add(Dense(num_classes, activation='softmax'))\n",
    "\n",
    "model.summary()\n",
    "\n",
    "model.compile(loss='categorical_crossentropy',\n",
    "              optimizer=RMSprop(),\n",
    "              metrics=['accuracy'])\n",
    "\n",
    "history = model.fit(x_train, y_train,\n",
    "                    batch_size=batch_size,\n",
    "                    epochs=epochs,\n",
    "                    verbose=1,\n",
    "                    validation_data=(x_test, y_test))\n",
    "score = model.evaluate(x_test, y_test, verbose=0)\n",
    "print('Test loss:', score[0])\n",
    "print('Test accuracy:', score[1])"
   ]
  },
  {
   "cell_type": "markdown",
   "metadata": {},
   "source": [
    "### CNN"
   ]
  },
  {
   "cell_type": "code",
   "execution_count": 10,
   "metadata": {},
   "outputs": [
    {
     "name": "stdout",
     "output_type": "stream",
     "text": [
      "x_train shape: (50000, 32, 32, 3)\n",
      "50000 train samples\n",
      "10000 test samples\n"
     ]
    }
   ],
   "source": [
    "(x_train, y_train), (x_test, y_test) = cifar10.load_data()\n",
    "print('x_train shape:', x_train.shape)\n",
    "print(x_train.shape[0], 'train samples')\n",
    "print(x_test.shape[0], 'test samples')\n",
    "x_train = x_train.astype('float32')\n",
    "x_test = x_test.astype('float32')\n",
    "x_train /= 255\n",
    "x_test /= 255\n",
    "\n",
    "# Convert class vectors to binary class matrices.\n",
    "y_train = keras.utils.to_categorical(y_train, num_classes)\n",
    "y_test = keras.utils.to_categorical(y_test, num_classes)"
   ]
  },
  {
   "cell_type": "code",
   "execution_count": 11,
   "metadata": {},
   "outputs": [
    {
     "name": "stdout",
     "output_type": "stream",
     "text": [
      "_________________________________________________________________\n",
      "Layer (type)                 Output Shape              Param #   \n",
      "=================================================================\n",
      "conv2d_5 (Conv2D)            (None, 32, 32, 32)        896       \n",
      "_________________________________________________________________\n",
      "activation_7 (Activation)    (None, 32, 32, 32)        0         \n",
      "_________________________________________________________________\n",
      "conv2d_6 (Conv2D)            (None, 30, 30, 32)        9248      \n",
      "_________________________________________________________________\n",
      "activation_8 (Activation)    (None, 30, 30, 32)        0         \n",
      "_________________________________________________________________\n",
      "max_pooling2d_3 (MaxPooling2 (None, 15, 15, 32)        0         \n",
      "_________________________________________________________________\n",
      "dropout_8 (Dropout)          (None, 15, 15, 32)        0         \n",
      "_________________________________________________________________\n",
      "conv2d_7 (Conv2D)            (None, 15, 15, 64)        18496     \n",
      "_________________________________________________________________\n",
      "activation_9 (Activation)    (None, 15, 15, 64)        0         \n",
      "_________________________________________________________________\n",
      "conv2d_8 (Conv2D)            (None, 13, 13, 64)        36928     \n",
      "_________________________________________________________________\n",
      "activation_10 (Activation)   (None, 13, 13, 64)        0         \n",
      "_________________________________________________________________\n",
      "max_pooling2d_4 (MaxPooling2 (None, 6, 6, 64)          0         \n",
      "_________________________________________________________________\n",
      "dropout_9 (Dropout)          (None, 6, 6, 64)          0         \n",
      "_________________________________________________________________\n",
      "flatten_2 (Flatten)          (None, 2304)              0         \n",
      "_________________________________________________________________\n",
      "dense_9 (Dense)              (None, 512)               1180160   \n",
      "_________________________________________________________________\n",
      "activation_11 (Activation)   (None, 512)               0         \n",
      "_________________________________________________________________\n",
      "dropout_10 (Dropout)         (None, 512)               0         \n",
      "_________________________________________________________________\n",
      "dense_10 (Dense)             (None, 10)                5130      \n",
      "_________________________________________________________________\n",
      "activation_12 (Activation)   (None, 10)                0         \n",
      "=================================================================\n",
      "Total params: 1,250,858\n",
      "Trainable params: 1,250,858\n",
      "Non-trainable params: 0\n",
      "_________________________________________________________________\n",
      "Train on 50000 samples, validate on 10000 samples\n",
      "Epoch 1/25\n",
      "50000/50000 [==============================] - 348s 7ms/step - loss: 1.7517 - acc: 0.3684 - val_loss: 1.3134 - val_acc: 0.5296\n",
      "Epoch 2/25\n",
      "50000/50000 [==============================] - 354s 7ms/step - loss: 1.3159 - acc: 0.5324 - val_loss: 1.1411 - val_acc: 0.5908\n",
      "Epoch 3/25\n",
      "50000/50000 [==============================] - 356s 7ms/step - loss: 1.1110 - acc: 0.6097 - val_loss: 0.9798 - val_acc: 0.6567\n",
      "Epoch 4/25\n",
      "50000/50000 [==============================] - 365s 7ms/step - loss: 0.9869 - acc: 0.6562 - val_loss: 0.9041 - val_acc: 0.6904\n",
      "Epoch 5/25\n",
      "50000/50000 [==============================] - 348s 7ms/step - loss: 0.8971 - acc: 0.6875 - val_loss: 0.9112 - val_acc: 0.6829\n",
      "Epoch 6/25\n",
      "50000/50000 [==============================] - 352s 7ms/step - loss: 0.8332 - acc: 0.7092 - val_loss: 0.8021 - val_acc: 0.7233\n",
      "Epoch 7/25\n",
      "50000/50000 [==============================] - 348s 7ms/step - loss: 0.7742 - acc: 0.7312 - val_loss: 0.7811 - val_acc: 0.7337\n",
      "Epoch 8/25\n",
      "50000/50000 [==============================] - 373s 7ms/step - loss: 0.7343 - acc: 0.7434 - val_loss: 0.8581 - val_acc: 0.7116\n",
      "Epoch 9/25\n",
      "50000/50000 [==============================] - 383s 8ms/step - loss: 0.7025 - acc: 0.7556 - val_loss: 0.7437 - val_acc: 0.7519\n",
      "Epoch 10/25\n",
      "50000/50000 [==============================] - 345s 7ms/step - loss: 0.6788 - acc: 0.7661 - val_loss: 0.7640 - val_acc: 0.7355\n",
      "Epoch 11/25\n",
      "50000/50000 [==============================] - 349s 7ms/step - loss: 0.6552 - acc: 0.7725 - val_loss: 0.7450 - val_acc: 0.7619\n",
      "Epoch 12/25\n",
      "50000/50000 [==============================] - 359s 7ms/step - loss: 0.6471 - acc: 0.7794 - val_loss: 0.8021 - val_acc: 0.7488\n",
      "Epoch 13/25\n",
      "50000/50000 [==============================] - 373s 7ms/step - loss: 0.6380 - acc: 0.7855 - val_loss: 0.7037 - val_acc: 0.7789\n",
      "Epoch 14/25\n",
      "50000/50000 [==============================] - 364s 7ms/step - loss: 0.6265 - acc: 0.7855 - val_loss: 0.7337 - val_acc: 0.7716\n",
      "Epoch 15/25\n",
      "50000/50000 [==============================] - 361s 7ms/step - loss: 0.6168 - acc: 0.7925 - val_loss: 0.7514 - val_acc: 0.7691\n",
      "Epoch 16/25\n",
      "50000/50000 [==============================] - 359s 7ms/step - loss: 0.6137 - acc: 0.7943 - val_loss: 0.7096 - val_acc: 0.7853\n",
      "Epoch 17/25\n",
      "50000/50000 [==============================] - 343s 7ms/step - loss: 0.6138 - acc: 0.7956 - val_loss: 0.8506 - val_acc: 0.7666\n",
      "Epoch 18/25\n",
      "50000/50000 [==============================] - 346s 7ms/step - loss: 0.6140 - acc: 0.7948 - val_loss: 0.8268 - val_acc: 0.7561\n",
      "Epoch 19/25\n",
      "50000/50000 [==============================] - 358s 7ms/step - loss: 0.6056 - acc: 0.7978 - val_loss: 0.7030 - val_acc: 0.7723\n",
      "Epoch 20/25\n",
      "50000/50000 [==============================] - 349s 7ms/step - loss: 0.6093 - acc: 0.7985 - val_loss: 0.7447 - val_acc: 0.7809\n",
      "Epoch 21/25\n",
      "50000/50000 [==============================] - 357s 7ms/step - loss: 0.6094 - acc: 0.7991 - val_loss: 0.6827 - val_acc: 0.7780\n",
      "Epoch 22/25\n",
      "50000/50000 [==============================] - 351s 7ms/step - loss: 0.6076 - acc: 0.8017 - val_loss: 0.7592 - val_acc: 0.7817\n",
      "Epoch 23/25\n",
      "50000/50000 [==============================] - 350s 7ms/step - loss: 0.6062 - acc: 0.8016 - val_loss: 0.7835 - val_acc: 0.7767\n",
      "Epoch 24/25\n",
      "50000/50000 [==============================] - 356s 7ms/step - loss: 0.6025 - acc: 0.8033 - val_loss: 0.7154 - val_acc: 0.7760\n",
      "Epoch 25/25\n",
      "50000/50000 [==============================] - 357s 7ms/step - loss: 0.5989 - acc: 0.8016 - val_loss: 0.6947 - val_acc: 0.7769\n",
      "Test loss: 0.6947332856178283\n",
      "Test accuracy: 0.7769\n"
     ]
    }
   ],
   "source": [
    "model = Sequential()\n",
    "model.add(Conv2D(32, (3, 3), padding='same',\n",
    "                 input_shape=x_train.shape[1:]))\n",
    "model.add(Activation('relu'))\n",
    "model.add(Conv2D(32, (3, 3)))\n",
    "model.add(Activation('relu'))\n",
    "model.add(MaxPooling2D(pool_size=(2, 2)))\n",
    "model.add(Dropout(0.25))\n",
    "\n",
    "model.add(Conv2D(64, (3, 3), padding='same'))\n",
    "model.add(Activation('relu'))\n",
    "model.add(Conv2D(64, (3, 3)))\n",
    "model.add(Activation('relu'))\n",
    "model.add(MaxPooling2D(pool_size=(2, 2)))\n",
    "model.add(Dropout(0.25))\n",
    "\n",
    "model.add(Flatten())\n",
    "model.add(Dense(512))\n",
    "model.add(Activation('relu'))\n",
    "model.add(Dropout(0.5))\n",
    "model.add(Dense(num_classes))\n",
    "model.add(Activation('softmax'))\n",
    "model.summary()\n",
    "\n",
    "model.compile(loss='categorical_crossentropy',\n",
    "              optimizer=RMSprop(),\n",
    "              metrics=['accuracy'])\n",
    "\n",
    "history = model.fit(x_train, y_train,\n",
    "                    batch_size=batch_size,\n",
    "                    epochs=epochs,\n",
    "                    verbose=1,\n",
    "                    validation_data=(x_test, y_test))\n",
    "score = model.evaluate(x_test, y_test, verbose=0)\n",
    "print('Test loss:', score[0])\n",
    "print('Test accuracy:', score[1])"
   ]
  },
  {
   "cell_type": "code",
   "execution_count": null,
   "metadata": {},
   "outputs": [],
   "source": []
  }
 ],
 "metadata": {
  "kernelspec": {
   "display_name": "Python 3",
   "language": "python",
   "name": "python3"
  },
  "language_info": {
   "codemirror_mode": {
    "name": "ipython",
    "version": 3
   },
   "file_extension": ".py",
   "mimetype": "text/x-python",
   "name": "python",
   "nbconvert_exporter": "python",
   "pygments_lexer": "ipython3",
   "version": "3.7.2"
  }
 },
 "nbformat": 4,
 "nbformat_minor": 2
}
