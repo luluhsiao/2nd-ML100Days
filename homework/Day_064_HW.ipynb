{
 "cells": [
  {
   "cell_type": "markdown",
   "metadata": {},
   "source": [
    "# 作業\n",
    "* 選擇迴歸資料集(右) - 交錯六群，在其他參數保持預設值的情況下，只允許調整隱藏層層數與神經元數量，且遵守下列限制   \n",
    "> * 隱藏層神經元總數最多 8 個 (即 : 可以單層 8 個，或兩層 5 個與 3 個)   \n",
    "> * 遞迴次數只允許跑到500次  \n",
    "* 在上述限制下，挑戰看看測試誤差 (Test Loss) 最低能到多少? 請回答你的神經元參數與 Test Loss 數"
   ]
  },
  {
   "cell_type": "markdown",
   "metadata": {},
   "source": [
    "* ANS: 測試誤差(Test Loss)最低為0.014，隱藏層層數1、隱藏層神經元總數8 \n",
    ">* 嘗試1 \n",
    ">隱藏層層數1  隱藏層神經元總數8 →     Test Loss 數 0.014\n",
    ">* 嘗試2 \n",
    ">隱藏層層數2  隱藏層神經元總數7與1 →  Test Loss 數 0.016    \n",
    ">* 嘗試3 \n",
    ">隱藏層層數2  隱藏層神經元總數6與2 →  Test Loss 數 0.018\n",
    ">* 嘗試4 \n",
    ">隱藏層層數2  隱藏層神經元總數5與3 →  Test Loss 數 0.015\n",
    ">* 嘗試5 \n",
    ">隱藏層層數2  隱藏層神經元總數4與4 →  Test Loss 數 0.017\n",
    ">* 嘗試6 \n",
    ">隱藏層層數2  隱藏層神經元總數3與5 →  Test Loss 數 0.018\n",
    ">* 嘗試7 \n",
    ">隱藏層層數2  隱藏層神經元總數2與6 →  Test Loss 數 0.030\n",
    ">* 嘗試8 \n",
    ">隱藏層層數2  隱藏層神經元總數1與7 →  Test Loss 數 0.030\n",
    ">* 嘗試9 \n",
    ">隱藏層層數3  隱藏層神經元總數4與2與2 →  Test Loss 數 0.020\n",
    ">* 嘗試10 \n",
    ">隱藏層層數4  隱藏層神經元總數各2 →  Test Loss 數 0.020"
   ]
  },
  {
   "cell_type": "markdown",
   "metadata": {
    "collapsed": true
   },
   "source": []
  }
 ],
 "metadata": {
  "kernelspec": {
   "display_name": "Python 3",
   "language": "python",
   "name": "python3"
  },
  "language_info": {
   "codemirror_mode": {
    "name": "ipython",
    "version": 3
   },
   "file_extension": ".py",
   "mimetype": "text/x-python",
   "name": "python",
   "nbconvert_exporter": "python",
   "pygments_lexer": "ipython3",
   "version": "3.7.2"
  }
 },
 "nbformat": 4,
 "nbformat_minor": 2
}
