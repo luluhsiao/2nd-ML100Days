{
 "cells": [
  {
   "cell_type": "markdown",
   "metadata": {},
   "source": [
    "## Work\n",
    "1. 請嘗試將 preproc_x 替換成以每筆資料的 min/max 進行標準化至 -1 ~ 1 間，再進行訓練\n",
    "2. 請嘗試將 mlp 疊更深 (e.g 5~10 層)，進行訓練後觀察 learning curve 的走勢\n",
    "3. (optional) 請改用 GPU 進行訓練 (如果你有 GPU 的話)，比較使用 CPU 與 GPU 的訓練速度"
   ]
  },
  {
   "cell_type": "code",
   "execution_count": 1,
   "metadata": {},
   "outputs": [
    {
     "data": {
      "text/plain": [
       "'\\nYour code here (optional)\\n確認硬體資源\\n'"
      ]
     },
     "execution_count": 1,
     "metadata": {},
     "output_type": "execute_result"
    }
   ],
   "source": [
    "## \n",
    "\"\"\"\n",
    "Your code here (optional)\n",
    "確認硬體資源\n",
    "\"\"\""
   ]
  },
  {
   "cell_type": "code",
   "execution_count": 2,
   "metadata": {},
   "outputs": [
    {
     "name": "stderr",
     "output_type": "stream",
     "text": [
      "Using TensorFlow backend.\n"
     ]
    }
   ],
   "source": [
    "import os\n",
    "import keras\n",
    "\n",
    "# 請嘗試設定 GPU：os.environ\n",
    "os.environ[\"CUDA_VISIBLE_DEVICES\"] = \"\""
   ]
  },
  {
   "cell_type": "code",
   "execution_count": 3,
   "metadata": {},
   "outputs": [],
   "source": [
    "train, test = keras.datasets.cifar10.load_data()"
   ]
  },
  {
   "cell_type": "code",
   "execution_count": 4,
   "metadata": {},
   "outputs": [],
   "source": [
    "## 資料前處理\n",
    "\"\"\"\n",
    "Your code here\n",
    "\"\"\"\n",
    "from sklearn.preprocessing import MinMaxScaler\n",
    "\n",
    "def preproc_x(x, flatten=True):\n",
    "    x = x / 255.\n",
    "    if flatten:\n",
    "        x = x.reshape((len(x), -1))\n",
    "        x = MinMaxScaler(feature_range=(-1, 1)).fit_transform(x)\n",
    "    return x\n",
    "\n",
    "def preproc_y(y, num_classes=10):\n",
    "    if y.shape[-1] == 1:\n",
    "        y = keras.utils.to_categorical(y, num_classes)\n",
    "    return y"
   ]
  },
  {
   "cell_type": "code",
   "execution_count": 5,
   "metadata": {},
   "outputs": [],
   "source": [
    "x_train, y_train = train\n",
    "x_test, y_test = test\n",
    "\n",
    "# Preproc the inputs\n",
    "x_train = preproc_x(x_train)\n",
    "x_test = preproc_x(x_test)\n",
    "\n",
    "# Preprc the outputs\n",
    "y_train = preproc_y(y_train)\n",
    "y_test = preproc_y(y_test)"
   ]
  },
  {
   "cell_type": "code",
   "execution_count": 6,
   "metadata": {},
   "outputs": [
    {
     "name": "stdout",
     "output_type": "stream",
     "text": [
      "WARNING:tensorflow:From D:\\Program Files\\Anaconda3\\lib\\site-packages\\tensorflow\\python\\framework\\op_def_library.py:263: colocate_with (from tensorflow.python.framework.ops) is deprecated and will be removed in a future version.\n",
      "Instructions for updating:\n",
      "Colocations handled automatically by placer.\n",
      "_________________________________________________________________\n",
      "Layer (type)                 Output Shape              Param #   \n",
      "=================================================================\n",
      "input_1 (InputLayer)         (None, 3072)              0         \n",
      "_________________________________________________________________\n",
      "hidden_layer1 (Dense)        (None, 512)               1573376   \n",
      "_________________________________________________________________\n",
      "hidden_layer2 (Dense)        (None, 256)               131328    \n",
      "_________________________________________________________________\n",
      "hidden_layer3 (Dense)        (None, 128)               32896     \n",
      "_________________________________________________________________\n",
      "hidden_layer4 (Dense)        (None, 64)                8256      \n",
      "_________________________________________________________________\n",
      "hidden_layer5 (Dense)        (None, 32)                2080      \n",
      "_________________________________________________________________\n",
      "hidden_layer6 (Dense)        (None, 16)                528       \n",
      "_________________________________________________________________\n",
      "output (Dense)               (None, 10)                170       \n",
      "=================================================================\n",
      "Total params: 1,748,634\n",
      "Trainable params: 1,748,634\n",
      "Non-trainable params: 0\n",
      "_________________________________________________________________\n"
     ]
    }
   ],
   "source": [
    "\"\"\"Code Here\n",
    "建立你的神經網路\n",
    "\"\"\"\n",
    "def build_mlp(input_shape, output_units=10, num_neurons=[512, 256, 128, 64, 32, 16]):\n",
    "    input_layer = keras.layers.Input(input_shape)\n",
    "    \n",
    "    for i, n_units in enumerate(num_neurons):\n",
    "        if i == 0:\n",
    "            x = keras.layers.Dense(units=n_units, activation=\"relu\", name=\"hidden_layer\"+str(i+1))(input_layer)\n",
    "        else:\n",
    "            x = keras.layers.Dense(units=n_units, activation=\"relu\", name=\"hidden_layer\"+str(i+1))(x)\n",
    "    \n",
    "    out = keras.layers.Dense(units=output_units, activation=\"softmax\", name=\"output\")(x)\n",
    "    \n",
    "    model = keras.models.Model(inputs=[input_layer], outputs=[out])\n",
    "    return model\n",
    "\n",
    "model = build_mlp(input_shape=x_train.shape[1:])\n",
    "model.summary()"
   ]
  },
  {
   "cell_type": "code",
   "execution_count": 7,
   "metadata": {},
   "outputs": [],
   "source": [
    "## 超參數設定\n",
    "LEARNING_RATE = 0.001\n",
    "EPOCHS = 100\n",
    "BATCH_SIZE = 256"
   ]
  },
  {
   "cell_type": "code",
   "execution_count": 8,
   "metadata": {},
   "outputs": [],
   "source": [
    "optimizer = keras.optimizers.Adam(lr=LEARNING_RATE)\n",
    "model.compile(loss=\"categorical_crossentropy\", metrics=[\"accuracy\"], optimizer=optimizer)"
   ]
  },
  {
   "cell_type": "code",
   "execution_count": 9,
   "metadata": {},
   "outputs": [
    {
     "name": "stdout",
     "output_type": "stream",
     "text": [
      "WARNING:tensorflow:From D:\\Program Files\\Anaconda3\\lib\\site-packages\\tensorflow\\python\\ops\\math_ops.py:3066: to_int32 (from tensorflow.python.ops.math_ops) is deprecated and will be removed in a future version.\n",
      "Instructions for updating:\n",
      "Use tf.cast instead.\n",
      "Train on 50000 samples, validate on 10000 samples\n",
      "Epoch 1/100\n",
      "50000/50000 [==============================] - 26s 517us/step - loss: 1.8539 - acc: 0.3350 - val_loss: 1.6346 - val_acc: 0.4259\n",
      "Epoch 2/100\n",
      "50000/50000 [==============================] - 15s 301us/step - loss: 1.5674 - acc: 0.4447 - val_loss: 1.5411 - val_acc: 0.4532\n",
      "Epoch 3/100\n",
      "50000/50000 [==============================] - 15s 304us/step - loss: 1.4396 - acc: 0.4952 - val_loss: 1.4473 - val_acc: 0.4951\n",
      "Epoch 4/100\n",
      "50000/50000 [==============================] - 15s 303us/step - loss: 1.3382 - acc: 0.5305 - val_loss: 1.4034 - val_acc: 0.5119\n",
      "Epoch 5/100\n",
      "50000/50000 [==============================] - 16s 313us/step - loss: 1.2535 - acc: 0.5600 - val_loss: 1.3903 - val_acc: 0.5159\n",
      "Epoch 6/100\n",
      "50000/50000 [==============================] - 15s 302us/step - loss: 1.1766 - acc: 0.5866 - val_loss: 1.3929 - val_acc: 0.5202\n",
      "Epoch 7/100\n",
      "50000/50000 [==============================] - 15s 301us/step - loss: 1.0995 - acc: 0.6125 - val_loss: 1.3758 - val_acc: 0.5277\n",
      "Epoch 8/100\n",
      "50000/50000 [==============================] - 15s 302us/step - loss: 1.0325 - acc: 0.6371 - val_loss: 1.3988 - val_acc: 0.5262\n",
      "Epoch 9/100\n",
      "50000/50000 [==============================] - 15s 302us/step - loss: 0.9691 - acc: 0.6587 - val_loss: 1.4063 - val_acc: 0.5380\n",
      "Epoch 10/100\n",
      "50000/50000 [==============================] - 16s 316us/step - loss: 0.9015 - acc: 0.6816 - val_loss: 1.4253 - val_acc: 0.5331\n",
      "Epoch 11/100\n",
      "50000/50000 [==============================] - 16s 311us/step - loss: 0.8430 - acc: 0.7038 - val_loss: 1.4790 - val_acc: 0.5335\n",
      "Epoch 12/100\n",
      "50000/50000 [==============================] - 15s 299us/step - loss: 0.7818 - acc: 0.7244 - val_loss: 1.5194 - val_acc: 0.5362\n",
      "Epoch 13/100\n",
      "50000/50000 [==============================] - 15s 297us/step - loss: 0.7232 - acc: 0.7453 - val_loss: 1.5874 - val_acc: 0.5276\n",
      "Epoch 14/100\n",
      "50000/50000 [==============================] - 15s 299us/step - loss: 0.6613 - acc: 0.7670 - val_loss: 1.6584 - val_acc: 0.5303\n",
      "Epoch 15/100\n",
      "50000/50000 [==============================] - 15s 300us/step - loss: 0.6136 - acc: 0.7830 - val_loss: 1.7001 - val_acc: 0.5346\n",
      "Epoch 16/100\n",
      "50000/50000 [==============================] - 15s 299us/step - loss: 0.5723 - acc: 0.7985 - val_loss: 1.8131 - val_acc: 0.5313\n",
      "Epoch 17/100\n",
      "50000/50000 [==============================] - 16s 320us/step - loss: 0.5360 - acc: 0.8120 - val_loss: 1.7957 - val_acc: 0.5338\n",
      "Epoch 18/100\n",
      "50000/50000 [==============================] - 15s 302us/step - loss: 0.4869 - acc: 0.8288 - val_loss: 1.8985 - val_acc: 0.5348\n",
      "Epoch 19/100\n",
      "50000/50000 [==============================] - 16s 329us/step - loss: 0.4484 - acc: 0.8421 - val_loss: 1.9583 - val_acc: 0.5281\n",
      "Epoch 20/100\n",
      "50000/50000 [==============================] - 15s 307us/step - loss: 0.4153 - acc: 0.8533 - val_loss: 2.0531 - val_acc: 0.5333\n",
      "Epoch 21/100\n",
      "50000/50000 [==============================] - 15s 300us/step - loss: 0.3908 - acc: 0.8632 - val_loss: 2.1426 - val_acc: 0.5229\n",
      "Epoch 22/100\n",
      "50000/50000 [==============================] - 15s 300us/step - loss: 0.3557 - acc: 0.8777 - val_loss: 2.2266 - val_acc: 0.5335\n",
      "Epoch 23/100\n",
      "50000/50000 [==============================] - 16s 318us/step - loss: 0.3505 - acc: 0.8771 - val_loss: 2.2762 - val_acc: 0.5342\n",
      "Epoch 24/100\n",
      "50000/50000 [==============================] - 16s 312us/step - loss: 0.3189 - acc: 0.8891 - val_loss: 2.3011 - val_acc: 0.5270\n",
      "Epoch 25/100\n",
      "50000/50000 [==============================] - 15s 309us/step - loss: 0.2948 - acc: 0.8968 - val_loss: 2.4331 - val_acc: 0.5235\n",
      "Epoch 26/100\n",
      "50000/50000 [==============================] - 15s 310us/step - loss: 0.2695 - acc: 0.9076 - val_loss: 2.5455 - val_acc: 0.5340\n",
      "Epoch 27/100\n",
      "50000/50000 [==============================] - 16s 311us/step - loss: 0.2702 - acc: 0.9047 - val_loss: 2.5428 - val_acc: 0.5288\n",
      "Epoch 28/100\n",
      "50000/50000 [==============================] - 16s 314us/step - loss: 0.2648 - acc: 0.9081 - val_loss: 2.6340 - val_acc: 0.5282\n",
      "Epoch 29/100\n",
      "50000/50000 [==============================] - 16s 325us/step - loss: 0.2363 - acc: 0.9198 - val_loss: 2.7097 - val_acc: 0.5283\n",
      "Epoch 30/100\n",
      "50000/50000 [==============================] - 16s 318us/step - loss: 0.2207 - acc: 0.9247 - val_loss: 2.7484 - val_acc: 0.5337\n",
      "Epoch 31/100\n",
      "50000/50000 [==============================] - 16s 314us/step - loss: 0.2090 - acc: 0.9291 - val_loss: 2.6870 - val_acc: 0.5292\n",
      "Epoch 32/100\n",
      "50000/50000 [==============================] - 16s 320us/step - loss: 0.2247 - acc: 0.9233 - val_loss: 2.8095 - val_acc: 0.5164\n",
      "Epoch 33/100\n",
      "50000/50000 [==============================] - 16s 312us/step - loss: 0.1974 - acc: 0.9322 - val_loss: 2.8767 - val_acc: 0.5272\n",
      "Epoch 34/100\n",
      "50000/50000 [==============================] - 16s 314us/step - loss: 0.1930 - acc: 0.9333 - val_loss: 2.9142 - val_acc: 0.5323\n",
      "Epoch 35/100\n",
      "50000/50000 [==============================] - 16s 313us/step - loss: 0.1780 - acc: 0.9392 - val_loss: 2.9889 - val_acc: 0.5274\n",
      "Epoch 36/100\n",
      "50000/50000 [==============================] - 16s 314us/step - loss: 0.1862 - acc: 0.9365 - val_loss: 2.9780 - val_acc: 0.5291\n",
      "Epoch 37/100\n",
      "50000/50000 [==============================] - 16s 314us/step - loss: 0.1840 - acc: 0.9373 - val_loss: 2.9806 - val_acc: 0.5319\n",
      "Epoch 38/100\n",
      "50000/50000 [==============================] - 16s 313us/step - loss: 0.1596 - acc: 0.9451 - val_loss: 3.1166 - val_acc: 0.5307\n",
      "Epoch 39/100\n",
      "50000/50000 [==============================] - 16s 312us/step - loss: 0.1678 - acc: 0.9444 - val_loss: 3.0649 - val_acc: 0.5214\n",
      "Epoch 40/100\n",
      "50000/50000 [==============================] - 16s 315us/step - loss: 0.1709 - acc: 0.9424 - val_loss: 3.1649 - val_acc: 0.5304\n",
      "Epoch 41/100\n",
      "50000/50000 [==============================] - 16s 313us/step - loss: 0.1534 - acc: 0.9490 - val_loss: 3.2063 - val_acc: 0.5273\n",
      "Epoch 42/100\n",
      "50000/50000 [==============================] - 16s 314us/step - loss: 0.1369 - acc: 0.9545 - val_loss: 3.2395 - val_acc: 0.5267\n",
      "Epoch 43/100\n",
      "50000/50000 [==============================] - 16s 315us/step - loss: 0.1588 - acc: 0.9469 - val_loss: 3.3718 - val_acc: 0.5209\n",
      "Epoch 44/100\n",
      "50000/50000 [==============================] - 16s 317us/step - loss: 0.1597 - acc: 0.9469 - val_loss: 3.2367 - val_acc: 0.5296\n",
      "Epoch 45/100\n",
      "50000/50000 [==============================] - 16s 324us/step - loss: 0.1362 - acc: 0.9543 - val_loss: 3.2929 - val_acc: 0.5296\n",
      "Epoch 46/100\n",
      "50000/50000 [==============================] - 16s 325us/step - loss: 0.1283 - acc: 0.9570 - val_loss: 3.4111 - val_acc: 0.5346\n",
      "Epoch 47/100\n",
      "50000/50000 [==============================] - 16s 324us/step - loss: 0.1217 - acc: 0.9595 - val_loss: 3.3744 - val_acc: 0.5255\n",
      "Epoch 48/100\n",
      "50000/50000 [==============================] - 17s 330us/step - loss: 0.1389 - acc: 0.9538 - val_loss: 3.3008 - val_acc: 0.5287\n",
      "Epoch 49/100\n",
      "50000/50000 [==============================] - 16s 317us/step - loss: 0.1259 - acc: 0.9581 - val_loss: 3.4215 - val_acc: 0.5305\n",
      "Epoch 50/100\n",
      "50000/50000 [==============================] - 16s 322us/step - loss: 0.1159 - acc: 0.9611 - val_loss: 3.4631 - val_acc: 0.5237\n",
      "Epoch 51/100\n",
      "50000/50000 [==============================] - 16s 324us/step - loss: 0.1313 - acc: 0.9559 - val_loss: 3.3639 - val_acc: 0.5251\n",
      "Epoch 52/100\n",
      "50000/50000 [==============================] - 16s 321us/step - loss: 0.1269 - acc: 0.9585 - val_loss: 3.4232 - val_acc: 0.5286\n",
      "Epoch 53/100\n",
      "50000/50000 [==============================] - 16s 327us/step - loss: 0.1113 - acc: 0.9631 - val_loss: 3.4777 - val_acc: 0.5231\n",
      "Epoch 54/100\n",
      "50000/50000 [==============================] - 16s 329us/step - loss: 0.1335 - acc: 0.9569 - val_loss: 3.3912 - val_acc: 0.5346\n",
      "Epoch 55/100\n",
      "50000/50000 [==============================] - 16s 328us/step - loss: 0.0920 - acc: 0.9694 - val_loss: 3.6231 - val_acc: 0.5266\n",
      "Epoch 56/100\n",
      "50000/50000 [==============================] - 16s 328us/step - loss: 0.1072 - acc: 0.9635 - val_loss: 3.4287 - val_acc: 0.5255\n"
     ]
    },
    {
     "name": "stdout",
     "output_type": "stream",
     "text": [
      "Epoch 57/100\n",
      "50000/50000 [==============================] - 18s 355us/step - loss: 0.1158 - acc: 0.9623 - val_loss: 3.5944 - val_acc: 0.5289\n",
      "Epoch 58/100\n",
      "50000/50000 [==============================] - 18s 353us/step - loss: 0.1104 - acc: 0.9636 - val_loss: 3.5304 - val_acc: 0.5306\n",
      "Epoch 59/100\n",
      "50000/50000 [==============================] - 19s 372us/step - loss: 0.0906 - acc: 0.9695 - val_loss: 3.5266 - val_acc: 0.5302\n",
      "Epoch 60/100\n",
      "50000/50000 [==============================] - 17s 335us/step - loss: 0.0869 - acc: 0.9715 - val_loss: 3.6644 - val_acc: 0.5382\n",
      "Epoch 61/100\n",
      "50000/50000 [==============================] - 16s 330us/step - loss: 0.0972 - acc: 0.9680 - val_loss: 3.6667 - val_acc: 0.5286\n",
      "Epoch 62/100\n",
      "50000/50000 [==============================] - 18s 354us/step - loss: 0.1213 - acc: 0.9601 - val_loss: 3.5005 - val_acc: 0.5215\n",
      "Epoch 63/100\n",
      "50000/50000 [==============================] - 18s 360us/step - loss: 0.0996 - acc: 0.9675 - val_loss: 3.5176 - val_acc: 0.5380\n",
      "Epoch 64/100\n",
      "50000/50000 [==============================] - 16s 327us/step - loss: 0.1002 - acc: 0.9675 - val_loss: 3.6750 - val_acc: 0.5281\n",
      "Epoch 65/100\n",
      "50000/50000 [==============================] - 17s 334us/step - loss: 0.1018 - acc: 0.9675 - val_loss: 3.5611 - val_acc: 0.5209\n",
      "Epoch 66/100\n",
      "50000/50000 [==============================] - 18s 359us/step - loss: 0.0989 - acc: 0.9672 - val_loss: 3.6170 - val_acc: 0.5337\n",
      "Epoch 67/100\n",
      "50000/50000 [==============================] - 17s 331us/step - loss: 0.0938 - acc: 0.9696 - val_loss: 3.6713 - val_acc: 0.5272\n",
      "Epoch 68/100\n",
      "50000/50000 [==============================] - 16s 317us/step - loss: 0.0792 - acc: 0.9750 - val_loss: 3.7273 - val_acc: 0.5285\n",
      "Epoch 69/100\n",
      "50000/50000 [==============================] - 16s 322us/step - loss: 0.0978 - acc: 0.9683 - val_loss: 3.6837 - val_acc: 0.5202\n",
      "Epoch 70/100\n",
      "50000/50000 [==============================] - 17s 350us/step - loss: 0.0883 - acc: 0.9713 - val_loss: 3.7634 - val_acc: 0.5336\n",
      "Epoch 71/100\n",
      "50000/50000 [==============================] - 20s 390us/step - loss: 0.0777 - acc: 0.9747 - val_loss: 3.7573 - val_acc: 0.5281\n",
      "Epoch 72/100\n",
      "50000/50000 [==============================] - 18s 363us/step - loss: 0.0911 - acc: 0.9705 - val_loss: 3.7936 - val_acc: 0.5298\n",
      "Epoch 73/100\n",
      "50000/50000 [==============================] - 16s 327us/step - loss: 0.1064 - acc: 0.9648 - val_loss: 3.6680 - val_acc: 0.5234\n",
      "Epoch 74/100\n",
      "50000/50000 [==============================] - 17s 333us/step - loss: 0.1033 - acc: 0.9652 - val_loss: 3.7132 - val_acc: 0.5349\n",
      "Epoch 75/100\n",
      "50000/50000 [==============================] - 16s 320us/step - loss: 0.0777 - acc: 0.9749 - val_loss: 3.6666 - val_acc: 0.5354\n",
      "Epoch 76/100\n",
      "50000/50000 [==============================] - 16s 324us/step - loss: 0.0821 - acc: 0.9732 - val_loss: 3.7645 - val_acc: 0.5227\n",
      "Epoch 77/100\n",
      "50000/50000 [==============================] - 16s 319us/step - loss: 0.0794 - acc: 0.9735 - val_loss: 3.7666 - val_acc: 0.5247\n",
      "Epoch 78/100\n",
      "50000/50000 [==============================] - 16s 313us/step - loss: 0.0806 - acc: 0.9744 - val_loss: 3.8114 - val_acc: 0.5260\n",
      "Epoch 79/100\n",
      "50000/50000 [==============================] - 15s 307us/step - loss: 0.0792 - acc: 0.9735 - val_loss: 3.8002 - val_acc: 0.5312\n",
      "Epoch 80/100\n",
      "50000/50000 [==============================] - 15s 302us/step - loss: 0.0852 - acc: 0.9724 - val_loss: 3.8588 - val_acc: 0.5283\n",
      "Epoch 81/100\n",
      "50000/50000 [==============================] - 15s 302us/step - loss: 0.0805 - acc: 0.9739 - val_loss: 3.7779 - val_acc: 0.5302\n",
      "Epoch 82/100\n",
      "50000/50000 [==============================] - 15s 302us/step - loss: 0.0804 - acc: 0.9746 - val_loss: 3.7698 - val_acc: 0.5317\n",
      "Epoch 83/100\n",
      "50000/50000 [==============================] - 15s 306us/step - loss: 0.0602 - acc: 0.9810 - val_loss: 3.9605 - val_acc: 0.5318\n",
      "Epoch 84/100\n",
      "50000/50000 [==============================] - 15s 305us/step - loss: 0.0728 - acc: 0.9769 - val_loss: 3.7524 - val_acc: 0.5300\n",
      "Epoch 85/100\n",
      "50000/50000 [==============================] - 15s 302us/step - loss: 0.0749 - acc: 0.9755 - val_loss: 3.8649 - val_acc: 0.5375\n",
      "Epoch 86/100\n",
      "50000/50000 [==============================] - 15s 301us/step - loss: 0.0718 - acc: 0.9761 - val_loss: 3.8545 - val_acc: 0.5372\n",
      "Epoch 87/100\n",
      "50000/50000 [==============================] - 15s 299us/step - loss: 0.0652 - acc: 0.9789 - val_loss: 3.9108 - val_acc: 0.5366\n",
      "Epoch 88/100\n",
      "50000/50000 [==============================] - 15s 301us/step - loss: 0.0814 - acc: 0.9743 - val_loss: 3.8277 - val_acc: 0.5247\n",
      "Epoch 89/100\n",
      "50000/50000 [==============================] - 15s 300us/step - loss: 0.0825 - acc: 0.9726 - val_loss: 3.7676 - val_acc: 0.5300\n",
      "Epoch 90/100\n",
      "50000/50000 [==============================] - 15s 300us/step - loss: 0.0742 - acc: 0.9768 - val_loss: 3.8391 - val_acc: 0.5253\n",
      "Epoch 91/100\n",
      "50000/50000 [==============================] - 15s 299us/step - loss: 0.0515 - acc: 0.9834 - val_loss: 3.9485 - val_acc: 0.5304\n",
      "Epoch 92/100\n",
      "50000/50000 [==============================] - 15s 301us/step - loss: 0.0732 - acc: 0.9767 - val_loss: 3.9108 - val_acc: 0.5246\n",
      "Epoch 93/100\n",
      "50000/50000 [==============================] - 16s 318us/step - loss: 0.0849 - acc: 0.9736 - val_loss: 3.8652 - val_acc: 0.5323\n",
      "Epoch 94/100\n",
      "50000/50000 [==============================] - 17s 336us/step - loss: 0.0615 - acc: 0.9803 - val_loss: 3.9174 - val_acc: 0.5298\n",
      "Epoch 95/100\n",
      "50000/50000 [==============================] - 15s 298us/step - loss: 0.0616 - acc: 0.9799 - val_loss: 3.9397 - val_acc: 0.5333\n",
      "Epoch 96/100\n",
      "50000/50000 [==============================] - 16s 312us/step - loss: 0.0909 - acc: 0.9710 - val_loss: 3.7728 - val_acc: 0.5318\n",
      "Epoch 97/100\n",
      "50000/50000 [==============================] - 16s 323us/step - loss: 0.0640 - acc: 0.9801 - val_loss: 3.8318 - val_acc: 0.5364\n",
      "Epoch 98/100\n",
      "50000/50000 [==============================] - 16s 320us/step - loss: 0.0448 - acc: 0.9863 - val_loss: 3.9644 - val_acc: 0.5329\n",
      "Epoch 99/100\n",
      "50000/50000 [==============================] - 16s 312us/step - loss: 0.0588 - acc: 0.9817 - val_loss: 3.8901 - val_acc: 0.5317\n",
      "Epoch 100/100\n",
      "50000/50000 [==============================] - 15s 306us/step - loss: 0.0941 - acc: 0.9702 - val_loss: 3.8104 - val_acc: 0.5264\n"
     ]
    },
    {
     "data": {
      "text/plain": [
       "<keras.callbacks.History at 0x8b2179da58>"
      ]
     },
     "execution_count": 9,
     "metadata": {},
     "output_type": "execute_result"
    }
   ],
   "source": [
    "model.fit(x_train, y_train, \n",
    "          epochs=EPOCHS, \n",
    "          batch_size=BATCH_SIZE, \n",
    "          validation_data=(x_test, y_test), \n",
    "          shuffle=True)"
   ]
  },
  {
   "cell_type": "code",
   "execution_count": 11,
   "metadata": {},
   "outputs": [
    {
     "data": {
      "image/png": "[encoded data removed]",
      "text/plain": [
       "<Figure size 432x288 with 1 Axes>"
      ]
     },
     "metadata": {
      "needs_background": "light"
     },
     "output_type": "display_data"
    },
    {
     "data": {
      "image/png": "[encoded data removed]",
      "text/plain": [
       "<Figure size 432x288 with 1 Axes>"
      ]
     },
     "metadata": {
      "needs_background": "light"
     },
     "output_type": "display_data"
    }
   ],
   "source": [
    "import matplotlib.pyplot as plt\n",
    "\n",
    "\n",
    "train_loss = model.history.history[\"loss\"]\n",
    "valid_loss = model.history.history[\"val_loss\"]\n",
    "\n",
    "train_acc = model.history.history[\"acc\"]\n",
    "valid_acc = model.history.history[\"val_acc\"]\n",
    "\n",
    "plt.plot(range(len(train_loss)), train_loss, label=\"train loss\")\n",
    "plt.plot(range(len(valid_loss)), valid_loss, label=\"valid loss\")\n",
    "plt.legend()\n",
    "plt.title(\"Loss\")\n",
    "plt.show()\n",
    "\n",
    "plt.plot(range(len(train_acc)), train_acc, label=\"train accuracy\")\n",
    "plt.plot(range(len(valid_acc)), valid_acc, label=\"valid accuracy\")\n",
    "plt.legend()\n",
    "plt.title(\"Accuracy\")\n",
    "plt.show()"
   ]
  },
  {
   "cell_type": "code",
   "execution_count": null,
   "metadata": {},
   "outputs": [],
   "source": []
  }
 ],
 "metadata": {
  "kernelspec": {
   "display_name": "Python 3",
   "language": "python",
   "name": "python3"
  },
  "language_info": {
   "codemirror_mode": {
    "name": "ipython",
    "version": 3
   },
   "file_extension": ".py",
   "mimetype": "text/x-python",
   "name": "python",
   "nbconvert_exporter": "python",
   "pygments_lexer": "ipython3",
   "version": "3.7.2"
  }
 },
 "nbformat": 4,
 "nbformat_minor": 2
}
