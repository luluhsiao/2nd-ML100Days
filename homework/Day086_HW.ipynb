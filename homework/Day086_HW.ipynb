{
 "cells": [
  {
   "cell_type": "markdown",
   "metadata": {},
   "source": [
    "## Work\n",
    "1. 試比較 save_best_only 與否的差異\n",
    "2. 請僅存入將 save_weights_only 設定為 True, 並嘗試 reset ipynb 並將模型與權重重新建回並預測 x_test"
   ]
  },
  {
   "cell_type": "code",
   "execution_count": 1,
   "metadata": {},
   "outputs": [
    {
     "name": "stderr",
     "output_type": "stream",
     "text": [
      "Using TensorFlow backend.\n"
     ]
    }
   ],
   "source": [
    "import os\n",
    "import keras\n",
    "\n",
    "# Disable GPU\n",
    "os.environ[\"CUDA_VISIBLE_DEVICES\"] = \"\""
   ]
  },
  {
   "cell_type": "code",
   "execution_count": 2,
   "metadata": {},
   "outputs": [],
   "source": [
    "train, test = keras.datasets.cifar10.load_data()"
   ]
  },
  {
   "cell_type": "code",
   "execution_count": 3,
   "metadata": {},
   "outputs": [],
   "source": [
    "## 資料前處理\n",
    "def preproc_x(x, flatten=True):\n",
    "    x = x / 255.\n",
    "    if flatten:\n",
    "        x = x.reshape((len(x), -1))\n",
    "    return x\n",
    "\n",
    "def preproc_y(y, num_classes=10):\n",
    "    if y.shape[-1] == 1:\n",
    "        y = keras.utils.to_categorical(y, num_classes)\n",
    "    return y    "
   ]
  },
  {
   "cell_type": "code",
   "execution_count": 4,
   "metadata": {},
   "outputs": [],
   "source": [
    "x_train, y_train = train\n",
    "x_test, y_test = test\n",
    "\n",
    "# Preproc the inputs\n",
    "x_train = preproc_x(x_train)\n",
    "x_test = preproc_x(x_test)\n",
    "\n",
    "# Preprc the outputs\n",
    "y_train = preproc_y(y_train)\n",
    "y_test = preproc_y(y_test)"
   ]
  },
  {
   "cell_type": "code",
   "execution_count": 5,
   "metadata": {},
   "outputs": [],
   "source": [
    "from keras.layers import BatchNormalization\n",
    "def build_mlp(input_shape, output_units=10, num_neurons=[512, 256, 128]):\n",
    "    \"\"\"Code Here\n",
    "    建立你的神經網路\n",
    "    \"\"\"\n",
    "    input_layer = keras.layers.Input(input_shape)\n",
    "    \n",
    "    for i, n_units in enumerate(num_neurons):\n",
    "        if i == 0:\n",
    "            x = keras.layers.Dense(units=n_units, \n",
    "                                   activation=\"relu\", \n",
    "                                   name=\"hidden_layer\"+str(i+1))(input_layer)\n",
    "            x = BatchNormalization()(x)\n",
    "        else:\n",
    "            x = keras.layers.Dense(units=n_units, \n",
    "                                   activation=\"relu\", \n",
    "                                   name=\"hidden_layer\"+str(i+1))(x)\n",
    "            x = BatchNormalization()(x)\n",
    "    \n",
    "    out = keras.layers.Dense(units=output_units, activation=\"softmax\", name=\"output\")(x)\n",
    "    \n",
    "    model = keras.models.Model(inputs=[input_layer], outputs=[out])\n",
    "    return model"
   ]
  },
  {
   "cell_type": "code",
   "execution_count": 6,
   "metadata": {},
   "outputs": [],
   "source": [
    "\"\"\"Code Here\n",
    "設定超參數\n",
    "\"\"\"\n",
    "LEARNING_RATE = 1e-3\n",
    "EPOCHS = 50\n",
    "BATCH_SIZE = 1024\n",
    "MOMENTUM = 0.95"
   ]
  },
  {
   "cell_type": "code",
   "execution_count": 7,
   "metadata": {},
   "outputs": [
    {
     "name": "stdout",
     "output_type": "stream",
     "text": [
      "WARNING:tensorflow:From D:\\Program Files\\Anaconda3\\lib\\site-packages\\tensorflow\\python\\framework\\op_def_library.py:263: colocate_with (from tensorflow.python.framework.ops) is deprecated and will be removed in a future version.\n",
      "Instructions for updating:\n",
      "Colocations handled automatically by placer.\n",
      "_________________________________________________________________\n",
      "Layer (type)                 Output Shape              Param #   \n",
      "=================================================================\n",
      "input_1 (InputLayer)         (None, 3072)              0         \n",
      "_________________________________________________________________\n",
      "hidden_layer1 (Dense)        (None, 512)               1573376   \n",
      "_________________________________________________________________\n",
      "batch_normalization_1 (Batch (None, 512)               2048      \n",
      "_________________________________________________________________\n",
      "hidden_layer2 (Dense)        (None, 256)               131328    \n",
      "_________________________________________________________________\n",
      "batch_normalization_2 (Batch (None, 256)               1024      \n",
      "_________________________________________________________________\n",
      "hidden_layer3 (Dense)        (None, 128)               32896     \n",
      "_________________________________________________________________\n",
      "batch_normalization_3 (Batch (None, 128)               512       \n",
      "_________________________________________________________________\n",
      "output (Dense)               (None, 10)                1290      \n",
      "=================================================================\n",
      "Total params: 1,742,474\n",
      "Trainable params: 1,740,682\n",
      "Non-trainable params: 1,792\n",
      "_________________________________________________________________\n",
      "WARNING:tensorflow:From D:\\Program Files\\Anaconda3\\lib\\site-packages\\tensorflow\\python\\ops\\math_ops.py:3066: to_int32 (from tensorflow.python.ops.math_ops) is deprecated and will be removed in a future version.\n",
      "Instructions for updating:\n",
      "Use tf.cast instead.\n",
      "Train on 50000 samples, validate on 10000 samples\n",
      "Epoch 1/50\n",
      "50000/50000 [==============================] - 16s 314us/step - loss: 2.1958 - acc: 0.2746 - val_loss: 2.1312 - val_acc: 0.3173\n",
      "Epoch 2/50\n",
      "50000/50000 [==============================] - 11s 213us/step - loss: 1.7392 - acc: 0.3960 - val_loss: 1.7820 - val_acc: 0.3839\n",
      "Epoch 3/50\n",
      "50000/50000 [==============================] - 11s 215us/step - loss: 1.6124 - acc: 0.4349 - val_loss: 1.6860 - val_acc: 0.4135\n",
      "Epoch 4/50\n",
      "50000/50000 [==============================] - 11s 216us/step - loss: 1.5390 - acc: 0.4613 - val_loss: 1.6186 - val_acc: 0.4331\n",
      "Epoch 5/50\n",
      "50000/50000 [==============================] - 11s 211us/step - loss: 1.4861 - acc: 0.4804 - val_loss: 1.5964 - val_acc: 0.4403\n",
      "Epoch 6/50\n",
      "50000/50000 [==============================] - 11s 213us/step - loss: 1.4403 - acc: 0.4971 - val_loss: 1.5688 - val_acc: 0.4549\n",
      "Epoch 7/50\n",
      "50000/50000 [==============================] - 11s 216us/step - loss: 1.3999 - acc: 0.5117 - val_loss: 1.5518 - val_acc: 0.4564\n",
      "Epoch 8/50\n",
      "50000/50000 [==============================] - 11s 215us/step - loss: 1.3653 - acc: 0.5250 - val_loss: 1.5226 - val_acc: 0.4628\n",
      "Epoch 9/50\n",
      "50000/50000 [==============================] - 11s 211us/step - loss: 1.3338 - acc: 0.5346 - val_loss: 1.5132 - val_acc: 0.4692\n",
      "Epoch 10/50\n",
      "50000/50000 [==============================] - 11s 217us/step - loss: 1.3019 - acc: 0.5470 - val_loss: 1.5061 - val_acc: 0.4690\n",
      "Epoch 11/50\n",
      "50000/50000 [==============================] - 11s 215us/step - loss: 1.2729 - acc: 0.5579 - val_loss: 1.4904 - val_acc: 0.4769\n",
      "Epoch 12/50\n",
      "50000/50000 [==============================] - 11s 212us/step - loss: 1.2460 - acc: 0.5667 - val_loss: 1.4889 - val_acc: 0.4797\n",
      "Epoch 13/50\n",
      "50000/50000 [==============================] - 11s 216us/step - loss: 1.2198 - acc: 0.5777 - val_loss: 1.4895 - val_acc: 0.4740\n",
      "Epoch 14/50\n",
      "50000/50000 [==============================] - 11s 215us/step - loss: 1.1926 - acc: 0.5877 - val_loss: 1.4784 - val_acc: 0.4820\n",
      "Epoch 15/50\n",
      "50000/50000 [==============================] - 11s 216us/step - loss: 1.1698 - acc: 0.5968 - val_loss: 1.4691 - val_acc: 0.4879\n",
      "Epoch 16/50\n",
      "50000/50000 [==============================] - 11s 213us/step - loss: 1.1454 - acc: 0.6047 - val_loss: 1.4690 - val_acc: 0.4895\n",
      "Epoch 17/50\n",
      "50000/50000 [==============================] - 11s 221us/step - loss: 1.1201 - acc: 0.6136 - val_loss: 1.4679 - val_acc: 0.4858\n",
      "Epoch 18/50\n",
      "50000/50000 [==============================] - 11s 221us/step - loss: 1.0975 - acc: 0.6235 - val_loss: 1.4745 - val_acc: 0.4862\n",
      "Epoch 19/50\n",
      "50000/50000 [==============================] - 12s 231us/step - loss: 1.0744 - acc: 0.6314 - val_loss: 1.4709 - val_acc: 0.4865\n",
      "Epoch 20/50\n",
      "50000/50000 [==============================] - 11s 223us/step - loss: 1.0535 - acc: 0.6400 - val_loss: 1.4568 - val_acc: 0.4941\n",
      "Epoch 21/50\n",
      "50000/50000 [==============================] - 11s 215us/step - loss: 1.0311 - acc: 0.6482 - val_loss: 1.4705 - val_acc: 0.4915\n",
      "Epoch 22/50\n",
      "50000/50000 [==============================] - 11s 212us/step - loss: 1.0077 - acc: 0.6584 - val_loss: 1.4590 - val_acc: 0.4954\n",
      "Epoch 23/50\n",
      "50000/50000 [==============================] - 11s 218us/step - loss: 0.9906 - acc: 0.6653 - val_loss: 1.4673 - val_acc: 0.4929\n",
      "Epoch 24/50\n",
      "50000/50000 [==============================] - 11s 222us/step - loss: 0.9673 - acc: 0.6723 - val_loss: 1.4662 - val_acc: 0.4969\n",
      "Epoch 25/50\n",
      "50000/50000 [==============================] - 11s 217us/step - loss: 0.9464 - acc: 0.6819 - val_loss: 1.4637 - val_acc: 0.4949\n",
      "Epoch 26/50\n",
      "50000/50000 [==============================] - 11s 220us/step - loss: 0.9237 - acc: 0.6907 - val_loss: 1.4745 - val_acc: 0.4965\n",
      "Epoch 27/50\n",
      "50000/50000 [==============================] - 11s 225us/step - loss: 0.9043 - acc: 0.6984 - val_loss: 1.4709 - val_acc: 0.4941\n",
      "Epoch 28/50\n",
      "50000/50000 [==============================] - 11s 219us/step - loss: 0.8812 - acc: 0.7079 - val_loss: 1.4769 - val_acc: 0.4929\n",
      "Epoch 29/50\n",
      "50000/50000 [==============================] - 11s 216us/step - loss: 0.8629 - acc: 0.7144 - val_loss: 1.4973 - val_acc: 0.4944\n",
      "Epoch 30/50\n",
      "50000/50000 [==============================] - 11s 221us/step - loss: 0.8422 - acc: 0.7221 - val_loss: 1.5004 - val_acc: 0.4941\n",
      "Epoch 31/50\n",
      "50000/50000 [==============================] - 11s 220us/step - loss: 0.8218 - acc: 0.7307 - val_loss: 1.4998 - val_acc: 0.4938\n",
      "Epoch 32/50\n",
      "50000/50000 [==============================] - 11s 216us/step - loss: 0.8048 - acc: 0.7386 - val_loss: 1.5089 - val_acc: 0.4962\n",
      "Epoch 33/50\n",
      "50000/50000 [==============================] - 11s 226us/step - loss: 0.7829 - acc: 0.7469 - val_loss: 1.5023 - val_acc: 0.4971\n",
      "Epoch 34/50\n",
      "50000/50000 [==============================] - 12s 230us/step - loss: 0.7625 - acc: 0.7559 - val_loss: 1.5139 - val_acc: 0.4990\n",
      "Epoch 35/50\n",
      "50000/50000 [==============================] - 11s 215us/step - loss: 0.7473 - acc: 0.7612 - val_loss: 1.5176 - val_acc: 0.4988\n",
      "Epoch 36/50\n",
      "50000/50000 [==============================] - 11s 220us/step - loss: 0.7247 - acc: 0.7695 - val_loss: 1.5432 - val_acc: 0.4931\n",
      "Epoch 37/50\n",
      "50000/50000 [==============================] - 11s 225us/step - loss: 0.7059 - acc: 0.7753 - val_loss: 1.5501 - val_acc: 0.4954\n",
      "Epoch 38/50\n",
      "50000/50000 [==============================] - 11s 213us/step - loss: 0.6867 - acc: 0.7870 - val_loss: 1.5394 - val_acc: 0.4942\n",
      "Epoch 39/50\n",
      "50000/50000 [==============================] - 11s 217us/step - loss: 0.6686 - acc: 0.7926 - val_loss: 1.5675 - val_acc: 0.4896\n",
      "Epoch 40/50\n",
      "50000/50000 [==============================] - 11s 216us/step - loss: 0.6491 - acc: 0.7983 - val_loss: 1.5599 - val_acc: 0.4962\n",
      "Epoch 41/50\n",
      "50000/50000 [==============================] - 11s 215us/step - loss: 0.6296 - acc: 0.8074 - val_loss: 1.5761 - val_acc: 0.4969\n",
      "Epoch 42/50\n",
      "50000/50000 [==============================] - 11s 216us/step - loss: 0.6132 - acc: 0.8147 - val_loss: 1.6012 - val_acc: 0.4947\n",
      "Epoch 43/50\n",
      "50000/50000 [==============================] - 11s 216us/step - loss: 0.5954 - acc: 0.8210 - val_loss: 1.5997 - val_acc: 0.4966\n",
      "Epoch 44/50\n",
      "50000/50000 [==============================] - 11s 213us/step - loss: 0.5777 - acc: 0.8289 - val_loss: 1.6008 - val_acc: 0.5006\n",
      "Epoch 45/50\n"
     ]
    },
    {
     "name": "stdout",
     "output_type": "stream",
     "text": [
      "50000/50000 [==============================] - 11s 218us/step - loss: 0.5616 - acc: 0.8339 - val_loss: 1.6244 - val_acc: 0.4945\n",
      "Epoch 46/50\n",
      "50000/50000 [==============================] - 11s 216us/step - loss: 0.5444 - acc: 0.8402 - val_loss: 1.6494 - val_acc: 0.4865\n",
      "Epoch 47/50\n",
      "50000/50000 [==============================] - 11s 229us/step - loss: 0.5262 - acc: 0.8489 - val_loss: 1.6386 - val_acc: 0.4910\n",
      "Epoch 48/50\n",
      "50000/50000 [==============================] - 11s 228us/step - loss: 0.5096 - acc: 0.8563 - val_loss: 1.6681 - val_acc: 0.4937\n",
      "Epoch 49/50\n",
      "50000/50000 [==============================] - 11s 217us/step - loss: 0.4916 - acc: 0.8620 - val_loss: 1.6860 - val_acc: 0.4901\n",
      "Epoch 50/50\n",
      "50000/50000 [==============================] - 11s 216us/step - loss: 0.4778 - acc: 0.8676 - val_loss: 1.7024 - val_acc: 0.4867\n",
      "10000/10000 [==============================] - 2s 186us/step\n"
     ]
    }
   ],
   "source": [
    "# 載入 Callbacks\n",
    "\"\"\"Code Here\n",
    "設定 callbacks: model checkpoint\n",
    "\"\"\"\n",
    "from keras.callbacks import ModelCheckpoint\n",
    "\n",
    "results = {}\n",
    "\"\"\"Code Here\n",
    "撰寫你的訓練流程並將結果用 dictionary 紀錄\n",
    "\"\"\"\n",
    "model_ckpt = ModelCheckpoint(filepath=\"./tmp.h5\", \n",
    "                             monitor=\"val_loss\", \n",
    "                             save_best_only=True)\n",
    "\n",
    "model = build_mlp(input_shape=x_train.shape[1:])\n",
    "model.summary()\n",
    "optimizer = keras.optimizers.SGD(lr=LEARNING_RATE, nesterov=True, momentum=MOMENTUM)\n",
    "model.compile(loss=\"categorical_crossentropy\", metrics=[\"accuracy\"], optimizer=optimizer)\n",
    "\n",
    "model.fit(x_train, y_train, \n",
    "          epochs=EPOCHS, \n",
    "          batch_size=BATCH_SIZE, \n",
    "          validation_data=(x_test, y_test), \n",
    "          shuffle=True,\n",
    "          callbacks=[model_ckpt]\n",
    "         )\n",
    "\n",
    "# Collect results\n",
    "train_loss = model.history.history[\"loss\"]\n",
    "valid_loss = model.history.history[\"val_loss\"]\n",
    "train_acc = model.history.history[\"acc\"]\n",
    "valid_acc = model.history.history[\"val_acc\"]\n",
    "\n",
    "# Load back\n",
    "model = keras.models.load_model(\"./tmp.h5\")\n",
    "loss_loadback, acc_loadback = model.evaluate(x_test, y_test)"
   ]
  },
  {
   "cell_type": "code",
   "execution_count": 8,
   "metadata": {
    "scrolled": true
   },
   "outputs": [
    {
     "data": {
      "image/png": "[encoded data removed]",
      "text/plain": [
       "<Figure size 432x288 with 1 Axes>"
      ]
     },
     "metadata": {
      "needs_background": "light"
     },
     "output_type": "display_data"
    },
    {
     "data": {
      "image/png": "[encoded data removed]",
      "text/plain": [
       "<Figure size 432x288 with 1 Axes>"
      ]
     },
     "metadata": {
      "needs_background": "light"
     },
     "output_type": "display_data"
    }
   ],
   "source": [
    "import matplotlib.pyplot as plt\n",
    "%matplotlib inline\n",
    "\"\"\"Code Here\n",
    "將結果繪出\n",
    "\"\"\"\n",
    "plt.plot(range(len(train_loss)), train_loss, label=\"train loss\")\n",
    "plt.plot(range(len(valid_loss)), valid_loss, label=\"valid loss\")\n",
    "plt.hlines(y=loss_loadback, xmin=0, xmax=len(train_loss), colors='r', linestyles='--')\n",
    "plt.legend()\n",
    "plt.title(\"Loss\")\n",
    "plt.show()\n",
    "\n",
    "plt.plot(range(len(train_acc)), train_acc, label=\"train accuracy\")\n",
    "plt.plot(range(len(valid_acc)), valid_acc, label=\"valid accuracy\")\n",
    "plt.hlines(y=acc_loadback, xmin=0, xmax=len(train_loss), colors='r', linestyles='--')\n",
    "plt.legend()\n",
    "plt.title(\"Accuracy\")\n",
    "plt.show()"
   ]
  },
  {
   "cell_type": "code",
   "execution_count": 11,
   "metadata": {},
   "outputs": [
    {
     "name": "stdout",
     "output_type": "stream",
     "text": [
      "Train on 50000 samples, validate on 10000 samples\n",
      "Epoch 1/50\n",
      "50000/50000 [==============================] - 11s 213us/step - loss: 1.0347 - acc: 0.6478 - val_loss: 1.6238 - val_acc: 0.4824\n",
      "Epoch 2/50\n",
      "50000/50000 [==============================] - 11s 216us/step - loss: 1.0148 - acc: 0.6553 - val_loss: 1.5425 - val_acc: 0.4882\n",
      "Epoch 3/50\n",
      "50000/50000 [==============================] - 11s 211us/step - loss: 0.9936 - acc: 0.6630 - val_loss: 1.5045 - val_acc: 0.4910\n",
      "Epoch 4/50\n",
      "50000/50000 [==============================] - 10s 207us/step - loss: 0.9715 - acc: 0.6713 - val_loss: 1.4871 - val_acc: 0.4885\n",
      "Epoch 5/50\n",
      "50000/50000 [==============================] - 11s 216us/step - loss: 0.9521 - acc: 0.6797 - val_loss: 1.4742 - val_acc: 0.4981\n",
      "Epoch 6/50\n",
      "50000/50000 [==============================] - 11s 214us/step - loss: 0.9311 - acc: 0.6871 - val_loss: 1.4886 - val_acc: 0.4944\n",
      "Epoch 7/50\n",
      "50000/50000 [==============================] - 10s 207us/step - loss: 0.9104 - acc: 0.6960 - val_loss: 1.4821 - val_acc: 0.4936\n",
      "Epoch 8/50\n",
      "50000/50000 [==============================] - 11s 211us/step - loss: 0.8887 - acc: 0.7034 - val_loss: 1.4844 - val_acc: 0.4923\n",
      "Epoch 9/50\n",
      "50000/50000 [==============================] - 11s 211us/step - loss: 0.8676 - acc: 0.7126 - val_loss: 1.4851 - val_acc: 0.4945\n",
      "Epoch 10/50\n",
      "50000/50000 [==============================] - 10s 206us/step - loss: 0.8469 - acc: 0.7205 - val_loss: 1.4904 - val_acc: 0.4955\n",
      "Epoch 11/50\n",
      "50000/50000 [==============================] - 11s 213us/step - loss: 0.8264 - acc: 0.7275 - val_loss: 1.5013 - val_acc: 0.4976\n",
      "Epoch 12/50\n",
      "50000/50000 [==============================] - 11s 211us/step - loss: 0.8058 - acc: 0.7379 - val_loss: 1.4996 - val_acc: 0.4920\n",
      "Epoch 13/50\n",
      "50000/50000 [==============================] - 10s 207us/step - loss: 0.7856 - acc: 0.7463 - val_loss: 1.5126 - val_acc: 0.4939\n",
      "Epoch 14/50\n",
      "50000/50000 [==============================] - 11s 211us/step - loss: 0.7658 - acc: 0.7532 - val_loss: 1.5162 - val_acc: 0.4939\n",
      "Epoch 15/50\n",
      "50000/50000 [==============================] - 11s 214us/step - loss: 0.7480 - acc: 0.7595 - val_loss: 1.5248 - val_acc: 0.4944\n",
      "Epoch 16/50\n",
      "50000/50000 [==============================] - 10s 207us/step - loss: 0.7291 - acc: 0.7668 - val_loss: 1.5447 - val_acc: 0.4905\n",
      "Epoch 17/50\n",
      "50000/50000 [==============================] - 11s 211us/step - loss: 0.7083 - acc: 0.7760 - val_loss: 1.5440 - val_acc: 0.4966\n",
      "Epoch 18/50\n",
      "50000/50000 [==============================] - 11s 212us/step - loss: 0.6897 - acc: 0.7838 - val_loss: 1.5683 - val_acc: 0.4856\n",
      "Epoch 19/50\n",
      "50000/50000 [==============================] - 10s 207us/step - loss: 0.6700 - acc: 0.7913 - val_loss: 1.5507 - val_acc: 0.4960\n",
      "Epoch 20/50\n",
      "50000/50000 [==============================] - 11s 211us/step - loss: 0.6519 - acc: 0.7991 - val_loss: 1.5839 - val_acc: 0.4927\n",
      "Epoch 21/50\n",
      "50000/50000 [==============================] - 11s 213us/step - loss: 0.6329 - acc: 0.8061 - val_loss: 1.5706 - val_acc: 0.4959\n",
      "Epoch 22/50\n",
      "50000/50000 [==============================] - 10s 207us/step - loss: 0.6130 - acc: 0.8139 - val_loss: 1.5915 - val_acc: 0.4882\n",
      "Epoch 23/50\n",
      "50000/50000 [==============================] - 11s 211us/step - loss: 0.5971 - acc: 0.8209 - val_loss: 1.6050 - val_acc: 0.4922\n",
      "Epoch 24/50\n",
      "50000/50000 [==============================] - 11s 211us/step - loss: 0.5778 - acc: 0.8287 - val_loss: 1.6272 - val_acc: 0.4928\n",
      "Epoch 25/50\n",
      "50000/50000 [==============================] - 10s 208us/step - loss: 0.5600 - acc: 0.8361 - val_loss: 1.6223 - val_acc: 0.4913\n",
      "Epoch 26/50\n",
      "50000/50000 [==============================] - 11s 223us/step - loss: 0.5432 - acc: 0.8419 - val_loss: 1.6551 - val_acc: 0.4905\n",
      "Epoch 27/50\n",
      "50000/50000 [==============================] - 11s 224us/step - loss: 0.5264 - acc: 0.8472 - val_loss: 1.6436 - val_acc: 0.4911\n",
      "Epoch 28/50\n",
      "50000/50000 [==============================] - 10s 207us/step - loss: 0.5085 - acc: 0.8549 - val_loss: 1.6672 - val_acc: 0.4909\n",
      "Epoch 29/50\n",
      "50000/50000 [==============================] - 11s 213us/step - loss: 0.4913 - acc: 0.8633 - val_loss: 1.6784 - val_acc: 0.4916\n",
      "Epoch 30/50\n",
      "50000/50000 [==============================] - 11s 212us/step - loss: 0.4742 - acc: 0.8698 - val_loss: 1.6828 - val_acc: 0.4916\n",
      "Epoch 31/50\n",
      "50000/50000 [==============================] - 11s 211us/step - loss: 0.4602 - acc: 0.8751 - val_loss: 1.6996 - val_acc: 0.4896\n",
      "Epoch 32/50\n",
      "50000/50000 [==============================] - 11s 219us/step - loss: 0.4451 - acc: 0.8811 - val_loss: 1.7355 - val_acc: 0.4866\n",
      "Epoch 33/50\n",
      "50000/50000 [==============================] - 11s 219us/step - loss: 0.4289 - acc: 0.8873 - val_loss: 1.7267 - val_acc: 0.4957\n",
      "Epoch 34/50\n",
      "50000/50000 [==============================] - 11s 212us/step - loss: 0.4125 - acc: 0.8931 - val_loss: 1.7494 - val_acc: 0.4874\n",
      "Epoch 35/50\n",
      "50000/50000 [==============================] - 11s 214us/step - loss: 0.3975 - acc: 0.8993 - val_loss: 1.7708 - val_acc: 0.4870\n",
      "Epoch 36/50\n",
      "50000/50000 [==============================] - 11s 214us/step - loss: 0.3828 - acc: 0.9053 - val_loss: 1.7883 - val_acc: 0.4837\n",
      "Epoch 37/50\n",
      "50000/50000 [==============================] - 11s 212us/step - loss: 0.3686 - acc: 0.9104 - val_loss: 1.7955 - val_acc: 0.4876\n",
      "Epoch 38/50\n",
      "50000/50000 [==============================] - 11s 218us/step - loss: 0.3534 - acc: 0.9171 - val_loss: 1.8116 - val_acc: 0.4888\n",
      "Epoch 39/50\n",
      "50000/50000 [==============================] - 11s 215us/step - loss: 0.3434 - acc: 0.9195 - val_loss: 1.8389 - val_acc: 0.4844\n",
      "Epoch 40/50\n",
      "50000/50000 [==============================] - 11s 212us/step - loss: 0.3271 - acc: 0.9273 - val_loss: 1.8319 - val_acc: 0.4862\n",
      "Epoch 41/50\n",
      "50000/50000 [==============================] - 11s 217us/step - loss: 0.3130 - acc: 0.9317 - val_loss: 1.8565 - val_acc: 0.4858\n",
      "Epoch 42/50\n",
      "50000/50000 [==============================] - 11s 216us/step - loss: 0.3035 - acc: 0.9358 - val_loss: 1.8936 - val_acc: 0.4825\n",
      "Epoch 43/50\n",
      "50000/50000 [==============================] - 11s 211us/step - loss: 0.2921 - acc: 0.9385 - val_loss: 1.8840 - val_acc: 0.4859\n",
      "Epoch 44/50\n",
      "50000/50000 [==============================] - 11s 217us/step - loss: 0.2810 - acc: 0.9419 - val_loss: 1.9326 - val_acc: 0.4762\n",
      "Epoch 45/50\n",
      "50000/50000 [==============================] - 11s 218us/step - loss: 0.2668 - acc: 0.9477 - val_loss: 1.9078 - val_acc: 0.4854\n",
      "Epoch 46/50\n",
      "50000/50000 [==============================] - 11s 211us/step - loss: 0.2567 - acc: 0.9512 - val_loss: 1.9320 - val_acc: 0.4774\n",
      "Epoch 47/50\n",
      "50000/50000 [==============================] - 11s 216us/step - loss: 0.2467 - acc: 0.9538 - val_loss: 1.9701 - val_acc: 0.4775\n",
      "Epoch 48/50\n",
      "50000/50000 [==============================] - 11s 216us/step - loss: 0.2376 - acc: 0.9570 - val_loss: 1.9850 - val_acc: 0.4806\n",
      "Epoch 49/50\n",
      "50000/50000 [==============================] - 12s 232us/step - loss: 0.2264 - acc: 0.9605 - val_loss: 1.9928 - val_acc: 0.4810\n",
      "Epoch 50/50\n",
      "50000/50000 [==============================] - 12s 234us/step - loss: 0.2166 - acc: 0.9643 - val_loss: 2.0167 - val_acc: 0.4852\n"
     ]
    }
   ],
   "source": [
    "#嘗試 reset ipynb 並將模型與權重重新建回並預測 x_test\n",
    "model.load_weights(\"./tmp.h5\")\n",
    "\n",
    "\n",
    "model.fit(x_train, y_train, \n",
    "          epochs=EPOCHS, \n",
    "          batch_size=BATCH_SIZE, \n",
    "          validation_data=(x_test, y_test), \n",
    "          shuffle=True,\n",
    "          callbacks=[model_ckpt]\n",
    "         )\n",
    "\n",
    "# Collect results\n",
    "train_loss = model.history.history[\"loss\"]\n",
    "valid_loss = model.history.history[\"val_loss\"]\n",
    "train_acc = model.history.history[\"acc\"]\n",
    "valid_acc = model.history.history[\"val_acc\"]"
   ]
  },
  {
   "cell_type": "code",
   "execution_count": 12,
   "metadata": {},
   "outputs": [
    {
     "data": {
      "image/png": "[encoded data removed]",
      "text/plain": [
       "<Figure size 432x288 with 1 Axes>"
      ]
     },
     "metadata": {
      "needs_background": "light"
     },
     "output_type": "display_data"
    },
    {
     "data": {
      "image/png": "[encoded data removed]",
      "text/plain": [
       "<Figure size 432x288 with 1 Axes>"
      ]
     },
     "metadata": {
      "needs_background": "light"
     },
     "output_type": "display_data"
    }
   ],
   "source": [
    "import matplotlib.pyplot as plt\n",
    "%matplotlib inline\n",
    "\n",
    "plt.plot(range(len(train_loss)), train_loss, label=\"train loss\")\n",
    "plt.plot(range(len(valid_loss)), valid_loss, label=\"valid loss\")\n",
    "plt.hlines(y=loss_loadback, xmin=0, xmax=len(train_loss), colors='r', linestyles='--')\n",
    "plt.legend()\n",
    "plt.title(\"Loss\")\n",
    "plt.show()\n",
    "\n",
    "plt.plot(range(len(train_acc)), train_acc, label=\"train accuracy\")\n",
    "plt.plot(range(len(valid_acc)), valid_acc, label=\"valid accuracy\")\n",
    "plt.hlines(y=acc_loadback, xmin=0, xmax=len(train_loss), colors='r', linestyles='--')\n",
    "plt.legend()\n",
    "plt.title(\"Accuracy\")\n",
    "plt.show()"
   ]
  },
  {
   "cell_type": "code",
   "execution_count": null,
   "metadata": {},
   "outputs": [],
   "source": []
  }
 ],
 "metadata": {
  "kernelspec": {
   "display_name": "Python 3",
   "language": "python",
   "name": "python3"
  },
  "language_info": {
   "codemirror_mode": {
    "name": "ipython",
    "version": 3
   },
   "file_extension": ".py",
   "mimetype": "text/x-python",
   "name": "python",
   "nbconvert_exporter": "python",
   "pygments_lexer": "ipython3",
   "version": "3.7.2"
  }
 },
 "nbformat": 4,
 "nbformat_minor": 2
}
