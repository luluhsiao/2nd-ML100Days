# -*- coding: utf-8 -*-
"""
Spyder Editor

This is a temporary script file.
"""

3456
3.5
"這是中文"
"Hello World"

True
False

#List
[3,4,5,6,7]
["A","B","C"]

(3,4,5)
("A","B","C")

{3,4,5}
{"A","B","C"}


{"Apple":"蘋果","data":"資料"}

x=3
print(x)

print(["A","B","C"])